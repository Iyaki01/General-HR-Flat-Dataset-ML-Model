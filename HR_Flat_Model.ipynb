{
 "cells": [
  {
   "cell_type": "markdown",
   "metadata": {},
   "source": [
    "# 0. Import Packages and Define functions"
   ]
  },
  {
   "cell_type": "code",
   "execution_count": 1,
   "metadata": {},
   "outputs": [],
   "source": [
    "# import the required packages\n",
    "import numpy as np\n",
    "import pandas as pd\n",
    "\n",
    "# plotting\n",
    "import matplotlib.pyplot as plt\n",
    "import seaborn as sns\n",
    "import scipy.stats as stats\n",
    "\n",
    "# outlier handling\n",
    "from feature_engine.outliers import Winsorizer\n",
    "\n",
    "# numerical transformation\n",
    "from feature_engine.transformation import YeoJohnsonTransformer\n",
    "\n",
    "# the scaler \n",
    "from sklearn.preprocessing import MinMaxScaler\n",
    "\n",
    "# train test split\n",
    "from sklearn.model_selection import train_test_split\n",
    "\n",
    "# regression\n",
    "from sklearn.linear_model import LogisticRegression, LinearRegression\n",
    "from sklearn.metrics import mean_squared_error, mean_absolute_error\n",
    "from math import sqrt\n",
    "\n",
    "# improving log/lin reg\n",
    "import statsmodels.api as sm\n",
    "\n",
    "# voting classifier\n",
    "from sklearn.ensemble import VotingClassifier, VotingRegressor\n",
    "from sklearn.metrics import accuracy_score\n",
    "from sklearn.metrics import classification_report\n",
    "\n",
    "# SVM\n",
    "from sklearn.svm import SVC, SVR\n",
    "\n",
    "# xg boost\n",
    "from xgboost import XGBClassifier, XGBRegressor\n",
    "\n",
    "# adaboost\n",
    "from sklearn. ensemble import AdaBoostRegressor\n",
    "\n",
    "# GridSearchCV\n",
    "from sklearn.model_selection import GridSearchCV\n",
    "\n",
    "# decision tree\n",
    "from sklearn import tree\n",
    "\n",
    "# random forest\n",
    "from sklearn. ensemble import RandomForestClassifier, RandomForestRegressor\n",
    "\n",
    "# cross validation for random forest reg\n",
    "from sklearn.model_selection import cross_validate\n",
    "\n",
    "# r^2\n",
    "from sklearn.metrics import r2_score\n",
    "\n",
    "\n",
    "# # remove in future warnings\n",
    "# import warnings\n",
    "# warnings.filterwarnings('ignore')"
   ]
  },
  {
   "cell_type": "code",
   "execution_count": 2,
   "metadata": {},
   "outputs": [],
   "source": [
    "# function to create histogram, Q-Q plot and boxplot.\n",
    "\n",
    "def diagnostic_plots(df, variable):\n",
    "    # function takes a dataframe (df) and\n",
    "    # the variable of interest as arguments\n",
    "\n",
    "    # define figure size\n",
    "    plt.figure(figsize=(16, 4))\n",
    "\n",
    "    # histogram\n",
    "    plt.subplot(1, 3, 1)\n",
    "    sns.distplot(df[variable], bins=30)\n",
    "    plt.title('Histogram')\n",
    "\n",
    "    # Q-Q plot\n",
    "    plt.subplot(1, 3, 2)\n",
    "    stats.probplot(df[variable], dist=\"norm\", plot=plt)\n",
    "\n",
    "    # boxplot\n",
    "    plt.subplot(1, 3, 3)\n",
    "    sns.boxplot(y=df[variable])\n",
    "    plt.title('Boxplot')\n",
    "\n",
    "    plt.suptitle(variable)\n",
    "\n",
    "    plt.show()"
   ]
  },
  {
   "cell_type": "code",
   "execution_count": 3,
   "metadata": {},
   "outputs": [],
   "source": [
    "# function to create monotonic line graphs\n",
    "\n",
    "def diagnostic_plots_monotonic_relation(df_before, df_after, variable, target):\n",
    "    # function takes a dataframe (df) and\n",
    "    # the variable of interest as arguments\n",
    "\n",
    "    # define figure size\n",
    "    plt.figure(figsize=(12, 4))\n",
    "\n",
    "    # before\n",
    "    plt.subplot(1, 2, 1)\n",
    "    df_before.groupby([variable])[target].mean().plot()\n",
    "    plt.ylabel('Mean of target')\n",
    "\n",
    "    # after\n",
    "    plt.subplot(1, 2, 2)\n",
    "    df_after.groupby([variable])[target].mean().plot()\n",
    "    plt.ylabel('Mean of target')\n",
    "\n",
    "    plt.suptitle('Relationship between {} and the target'.format(variable))\n",
    "\n",
    "    plt.show()"
   ]
  },
  {
   "cell_type": "markdown",
   "metadata": {},
   "source": [
    "# 1. HR Analytics"
   ]
  },
  {
   "cell_type": "markdown",
   "metadata": {},
   "source": [
    "## 1.1 Load and Sample the data"
   ]
  },
  {
   "cell_type": "markdown",
   "metadata": {},
   "source": [
    "### 1.1.1 Loading Data"
   ]
  },
  {
   "cell_type": "code",
   "execution_count": 4,
   "metadata": {},
   "outputs": [
    {
     "data": {
      "text/html": [
       "<div>\n",
       "<style scoped>\n",
       "    .dataframe tbody tr th:only-of-type {\n",
       "        vertical-align: middle;\n",
       "    }\n",
       "\n",
       "    .dataframe tbody tr th {\n",
       "        vertical-align: top;\n",
       "    }\n",
       "\n",
       "    .dataframe thead th {\n",
       "        text-align: right;\n",
       "    }\n",
       "</style>\n",
       "<table border=\"1\" class=\"dataframe\">\n",
       "  <thead>\n",
       "    <tr style=\"text-align: right;\">\n",
       "      <th></th>\n",
       "      <th>employee_id</th>\n",
       "      <th>department</th>\n",
       "      <th>region</th>\n",
       "      <th>education</th>\n",
       "      <th>gender</th>\n",
       "      <th>recruitment_channel</th>\n",
       "      <th>no_of_trainings</th>\n",
       "      <th>age</th>\n",
       "      <th>previous_year_rating</th>\n",
       "      <th>length_of_service</th>\n",
       "      <th>KPIs_met &gt;80%</th>\n",
       "      <th>awards_won?</th>\n",
       "      <th>avg_training_score</th>\n",
       "      <th>is_promoted</th>\n",
       "    </tr>\n",
       "  </thead>\n",
       "  <tbody>\n",
       "    <tr>\n",
       "      <th>0</th>\n",
       "      <td>65438</td>\n",
       "      <td>Sales &amp; Marketing</td>\n",
       "      <td>region_7</td>\n",
       "      <td>Master's &amp; above</td>\n",
       "      <td>f</td>\n",
       "      <td>sourcing</td>\n",
       "      <td>1</td>\n",
       "      <td>35</td>\n",
       "      <td>5.0</td>\n",
       "      <td>8</td>\n",
       "      <td>1</td>\n",
       "      <td>0</td>\n",
       "      <td>49</td>\n",
       "      <td>0</td>\n",
       "    </tr>\n",
       "    <tr>\n",
       "      <th>1</th>\n",
       "      <td>65141</td>\n",
       "      <td>Operations</td>\n",
       "      <td>region_22</td>\n",
       "      <td>Bachelor's</td>\n",
       "      <td>m</td>\n",
       "      <td>other</td>\n",
       "      <td>1</td>\n",
       "      <td>30</td>\n",
       "      <td>5.0</td>\n",
       "      <td>4</td>\n",
       "      <td>0</td>\n",
       "      <td>0</td>\n",
       "      <td>60</td>\n",
       "      <td>0</td>\n",
       "    </tr>\n",
       "    <tr>\n",
       "      <th>2</th>\n",
       "      <td>7513</td>\n",
       "      <td>Sales &amp; Marketing</td>\n",
       "      <td>region_19</td>\n",
       "      <td>Bachelor's</td>\n",
       "      <td>m</td>\n",
       "      <td>sourcing</td>\n",
       "      <td>1</td>\n",
       "      <td>34</td>\n",
       "      <td>3.0</td>\n",
       "      <td>7</td>\n",
       "      <td>0</td>\n",
       "      <td>0</td>\n",
       "      <td>50</td>\n",
       "      <td>0</td>\n",
       "    </tr>\n",
       "    <tr>\n",
       "      <th>3</th>\n",
       "      <td>2542</td>\n",
       "      <td>Sales &amp; Marketing</td>\n",
       "      <td>region_23</td>\n",
       "      <td>Bachelor's</td>\n",
       "      <td>m</td>\n",
       "      <td>other</td>\n",
       "      <td>2</td>\n",
       "      <td>39</td>\n",
       "      <td>1.0</td>\n",
       "      <td>10</td>\n",
       "      <td>0</td>\n",
       "      <td>0</td>\n",
       "      <td>50</td>\n",
       "      <td>0</td>\n",
       "    </tr>\n",
       "    <tr>\n",
       "      <th>4</th>\n",
       "      <td>48945</td>\n",
       "      <td>Technology</td>\n",
       "      <td>region_26</td>\n",
       "      <td>Bachelor's</td>\n",
       "      <td>m</td>\n",
       "      <td>other</td>\n",
       "      <td>1</td>\n",
       "      <td>45</td>\n",
       "      <td>3.0</td>\n",
       "      <td>2</td>\n",
       "      <td>0</td>\n",
       "      <td>0</td>\n",
       "      <td>73</td>\n",
       "      <td>0</td>\n",
       "    </tr>\n",
       "    <tr>\n",
       "      <th>...</th>\n",
       "      <td>...</td>\n",
       "      <td>...</td>\n",
       "      <td>...</td>\n",
       "      <td>...</td>\n",
       "      <td>...</td>\n",
       "      <td>...</td>\n",
       "      <td>...</td>\n",
       "      <td>...</td>\n",
       "      <td>...</td>\n",
       "      <td>...</td>\n",
       "      <td>...</td>\n",
       "      <td>...</td>\n",
       "      <td>...</td>\n",
       "      <td>...</td>\n",
       "    </tr>\n",
       "    <tr>\n",
       "      <th>54803</th>\n",
       "      <td>3030</td>\n",
       "      <td>Technology</td>\n",
       "      <td>region_14</td>\n",
       "      <td>Bachelor's</td>\n",
       "      <td>m</td>\n",
       "      <td>sourcing</td>\n",
       "      <td>1</td>\n",
       "      <td>48</td>\n",
       "      <td>3.0</td>\n",
       "      <td>17</td>\n",
       "      <td>0</td>\n",
       "      <td>0</td>\n",
       "      <td>78</td>\n",
       "      <td>0</td>\n",
       "    </tr>\n",
       "    <tr>\n",
       "      <th>54804</th>\n",
       "      <td>74592</td>\n",
       "      <td>Operations</td>\n",
       "      <td>region_27</td>\n",
       "      <td>Master's &amp; above</td>\n",
       "      <td>f</td>\n",
       "      <td>other</td>\n",
       "      <td>1</td>\n",
       "      <td>37</td>\n",
       "      <td>2.0</td>\n",
       "      <td>6</td>\n",
       "      <td>0</td>\n",
       "      <td>0</td>\n",
       "      <td>56</td>\n",
       "      <td>0</td>\n",
       "    </tr>\n",
       "    <tr>\n",
       "      <th>54805</th>\n",
       "      <td>13918</td>\n",
       "      <td>Analytics</td>\n",
       "      <td>region_1</td>\n",
       "      <td>Bachelor's</td>\n",
       "      <td>m</td>\n",
       "      <td>other</td>\n",
       "      <td>1</td>\n",
       "      <td>27</td>\n",
       "      <td>5.0</td>\n",
       "      <td>3</td>\n",
       "      <td>1</td>\n",
       "      <td>0</td>\n",
       "      <td>79</td>\n",
       "      <td>0</td>\n",
       "    </tr>\n",
       "    <tr>\n",
       "      <th>54806</th>\n",
       "      <td>13614</td>\n",
       "      <td>Sales &amp; Marketing</td>\n",
       "      <td>region_9</td>\n",
       "      <td>NaN</td>\n",
       "      <td>m</td>\n",
       "      <td>sourcing</td>\n",
       "      <td>1</td>\n",
       "      <td>29</td>\n",
       "      <td>1.0</td>\n",
       "      <td>2</td>\n",
       "      <td>0</td>\n",
       "      <td>0</td>\n",
       "      <td>45</td>\n",
       "      <td>0</td>\n",
       "    </tr>\n",
       "    <tr>\n",
       "      <th>54807</th>\n",
       "      <td>51526</td>\n",
       "      <td>HR</td>\n",
       "      <td>region_22</td>\n",
       "      <td>Bachelor's</td>\n",
       "      <td>m</td>\n",
       "      <td>other</td>\n",
       "      <td>1</td>\n",
       "      <td>27</td>\n",
       "      <td>1.0</td>\n",
       "      <td>5</td>\n",
       "      <td>0</td>\n",
       "      <td>0</td>\n",
       "      <td>49</td>\n",
       "      <td>0</td>\n",
       "    </tr>\n",
       "  </tbody>\n",
       "</table>\n",
       "<p>54808 rows × 14 columns</p>\n",
       "</div>"
      ],
      "text/plain": [
       "       employee_id         department     region         education gender  \\\n",
       "0            65438  Sales & Marketing   region_7  Master's & above      f   \n",
       "1            65141         Operations  region_22        Bachelor's      m   \n",
       "2             7513  Sales & Marketing  region_19        Bachelor's      m   \n",
       "3             2542  Sales & Marketing  region_23        Bachelor's      m   \n",
       "4            48945         Technology  region_26        Bachelor's      m   \n",
       "...            ...                ...        ...               ...    ...   \n",
       "54803         3030         Technology  region_14        Bachelor's      m   \n",
       "54804        74592         Operations  region_27  Master's & above      f   \n",
       "54805        13918          Analytics   region_1        Bachelor's      m   \n",
       "54806        13614  Sales & Marketing   region_9               NaN      m   \n",
       "54807        51526                 HR  region_22        Bachelor's      m   \n",
       "\n",
       "      recruitment_channel  no_of_trainings  age  previous_year_rating  \\\n",
       "0                sourcing                1   35                   5.0   \n",
       "1                   other                1   30                   5.0   \n",
       "2                sourcing                1   34                   3.0   \n",
       "3                   other                2   39                   1.0   \n",
       "4                   other                1   45                   3.0   \n",
       "...                   ...              ...  ...                   ...   \n",
       "54803            sourcing                1   48                   3.0   \n",
       "54804               other                1   37                   2.0   \n",
       "54805               other                1   27                   5.0   \n",
       "54806            sourcing                1   29                   1.0   \n",
       "54807               other                1   27                   1.0   \n",
       "\n",
       "       length_of_service  KPIs_met >80%  awards_won?  avg_training_score  \\\n",
       "0                      8              1            0                  49   \n",
       "1                      4              0            0                  60   \n",
       "2                      7              0            0                  50   \n",
       "3                     10              0            0                  50   \n",
       "4                      2              0            0                  73   \n",
       "...                  ...            ...          ...                 ...   \n",
       "54803                 17              0            0                  78   \n",
       "54804                  6              0            0                  56   \n",
       "54805                  3              1            0                  79   \n",
       "54806                  2              0            0                  45   \n",
       "54807                  5              0            0                  49   \n",
       "\n",
       "       is_promoted  \n",
       "0                0  \n",
       "1                0  \n",
       "2                0  \n",
       "3                0  \n",
       "4                0  \n",
       "...            ...  \n",
       "54803            0  \n",
       "54804            0  \n",
       "54805            0  \n",
       "54806            0  \n",
       "54807            0  \n",
       "\n",
       "[54808 rows x 14 columns]"
      ]
     },
     "execution_count": 4,
     "metadata": {},
     "output_type": "execute_result"
    }
   ],
   "source": [
    "# loading the hr_data from csv file\n",
    "hr_df_main = pd.read_csv('hr_data.csv')\n",
    "hr_df_main"
   ]
  },
  {
   "cell_type": "markdown",
   "metadata": {},
   "source": [
    "#### Drop Unnecessary Columns"
   ]
  },
  {
   "cell_type": "code",
   "execution_count": 5,
   "metadata": {},
   "outputs": [],
   "source": [
    "hr_df_main.drop(columns='employee_id',inplace=True)"
   ]
  },
  {
   "cell_type": "markdown",
   "metadata": {},
   "source": [
    "### 1.1.2 Handling Missing Values"
   ]
  },
  {
   "cell_type": "markdown",
   "metadata": {},
   "source": [
    "Identify nulls"
   ]
  },
  {
   "cell_type": "code",
   "execution_count": 6,
   "metadata": {},
   "outputs": [
    {
     "data": {
      "text/plain": [
       "department                 0\n",
       "region                     0\n",
       "education               2409\n",
       "gender                     0\n",
       "recruitment_channel        0\n",
       "no_of_trainings            0\n",
       "age                        0\n",
       "previous_year_rating    4124\n",
       "length_of_service          0\n",
       "KPIs_met >80%              0\n",
       "awards_won?                0\n",
       "avg_training_score         0\n",
       "is_promoted                0\n",
       "dtype: int64"
      ]
     },
     "execution_count": 6,
     "metadata": {},
     "output_type": "execute_result"
    }
   ],
   "source": [
    "hr_df_main.isnull().sum()"
   ]
  },
  {
   "cell_type": "code",
   "execution_count": 7,
   "metadata": {},
   "outputs": [
    {
     "data": {
      "text/plain": [
       "department                 0\n",
       "region                     0\n",
       "education                428\n",
       "gender                     0\n",
       "recruitment_channel        0\n",
       "no_of_trainings            0\n",
       "age                        0\n",
       "previous_year_rating    4124\n",
       "length_of_service          0\n",
       "KPIs_met >80%              0\n",
       "awards_won?                0\n",
       "avg_training_score         0\n",
       "is_promoted                0\n",
       "dtype: int64"
      ]
     },
     "execution_count": 7,
     "metadata": {},
     "output_type": "execute_result"
    }
   ],
   "source": [
    "hr_df_main[hr_df_main['length_of_service']==1].isnull().sum()"
   ]
  },
  {
   "cell_type": "markdown",
   "metadata": {},
   "source": [
    "All nulls from previous_year_rating are from employees who have 1 in length_of_service. Thus, to ensure the imputed values for the nulls are as close to a real number, the median and mode used for imputation will be based off the null row's department median/mode."
   ]
  },
  {
   "cell_type": "markdown",
   "metadata": {},
   "source": [
    "Get replacement map for null imputation"
   ]
  },
  {
   "cell_type": "code",
   "execution_count": 8,
   "metadata": {},
   "outputs": [
    {
     "data": {
      "text/plain": [
       "[['Analytics', \"Bachelor's\", 3.0],\n",
       " ['Finance', \"Bachelor's\", 3.0],\n",
       " ['HR', \"Bachelor's\", 3.0],\n",
       " ['Legal', \"Bachelor's\", 3.0],\n",
       " ['Operations', \"Bachelor's\", 4.0],\n",
       " ['Procurement', \"Bachelor's\", 3.0],\n",
       " ['R&D', \"Bachelor's\", 3.0],\n",
       " ['Sales & Marketing', \"Bachelor's\", 3.0],\n",
       " ['Technology', \"Bachelor's\", 3.0]]"
      ]
     },
     "execution_count": 8,
     "metadata": {},
     "output_type": "execute_result"
    }
   ],
   "source": [
    "# creates a map of modal education and median previous_year_rating for a given department\n",
    "hr_df_main_map = hr_df_main.groupby(['department']).agg({'education':pd.Series.mode,'previous_year_rating':['median']})\n",
    "hr_df_main_map.reset_index(level=['department'],inplace=True)\n",
    "hr_df_main_map.columns = hr_df_main_map.columns.droplevel(1)\n",
    "hr_df_main_map = hr_df_main_map.values.tolist()\n",
    "hr_df_main_map"
   ]
  },
  {
   "cell_type": "markdown",
   "metadata": {},
   "source": [
    "Apply map to remove nulls"
   ]
  },
  {
   "cell_type": "code",
   "execution_count": 9,
   "metadata": {},
   "outputs": [
    {
     "data": {
      "text/html": [
       "<div>\n",
       "<style scoped>\n",
       "    .dataframe tbody tr th:only-of-type {\n",
       "        vertical-align: middle;\n",
       "    }\n",
       "\n",
       "    .dataframe tbody tr th {\n",
       "        vertical-align: top;\n",
       "    }\n",
       "\n",
       "    .dataframe thead th {\n",
       "        text-align: right;\n",
       "    }\n",
       "</style>\n",
       "<table border=\"1\" class=\"dataframe\">\n",
       "  <thead>\n",
       "    <tr style=\"text-align: right;\">\n",
       "      <th></th>\n",
       "      <th>department</th>\n",
       "      <th>region</th>\n",
       "      <th>education</th>\n",
       "      <th>gender</th>\n",
       "      <th>recruitment_channel</th>\n",
       "      <th>no_of_trainings</th>\n",
       "      <th>age</th>\n",
       "      <th>previous_year_rating</th>\n",
       "      <th>length_of_service</th>\n",
       "      <th>KPIs_met &gt;80%</th>\n",
       "      <th>awards_won?</th>\n",
       "      <th>avg_training_score</th>\n",
       "      <th>is_promoted</th>\n",
       "    </tr>\n",
       "  </thead>\n",
       "  <tbody>\n",
       "    <tr>\n",
       "      <th>0</th>\n",
       "      <td>Sales &amp; Marketing</td>\n",
       "      <td>region_7</td>\n",
       "      <td>Master's &amp; above</td>\n",
       "      <td>f</td>\n",
       "      <td>sourcing</td>\n",
       "      <td>1</td>\n",
       "      <td>35</td>\n",
       "      <td>5.0</td>\n",
       "      <td>8</td>\n",
       "      <td>1</td>\n",
       "      <td>0</td>\n",
       "      <td>49</td>\n",
       "      <td>0</td>\n",
       "    </tr>\n",
       "    <tr>\n",
       "      <th>1</th>\n",
       "      <td>Operations</td>\n",
       "      <td>region_22</td>\n",
       "      <td>Bachelor's</td>\n",
       "      <td>m</td>\n",
       "      <td>other</td>\n",
       "      <td>1</td>\n",
       "      <td>30</td>\n",
       "      <td>5.0</td>\n",
       "      <td>4</td>\n",
       "      <td>0</td>\n",
       "      <td>0</td>\n",
       "      <td>60</td>\n",
       "      <td>0</td>\n",
       "    </tr>\n",
       "    <tr>\n",
       "      <th>2</th>\n",
       "      <td>Sales &amp; Marketing</td>\n",
       "      <td>region_19</td>\n",
       "      <td>Bachelor's</td>\n",
       "      <td>m</td>\n",
       "      <td>sourcing</td>\n",
       "      <td>1</td>\n",
       "      <td>34</td>\n",
       "      <td>3.0</td>\n",
       "      <td>7</td>\n",
       "      <td>0</td>\n",
       "      <td>0</td>\n",
       "      <td>50</td>\n",
       "      <td>0</td>\n",
       "    </tr>\n",
       "    <tr>\n",
       "      <th>3</th>\n",
       "      <td>Sales &amp; Marketing</td>\n",
       "      <td>region_23</td>\n",
       "      <td>Bachelor's</td>\n",
       "      <td>m</td>\n",
       "      <td>other</td>\n",
       "      <td>2</td>\n",
       "      <td>39</td>\n",
       "      <td>1.0</td>\n",
       "      <td>10</td>\n",
       "      <td>0</td>\n",
       "      <td>0</td>\n",
       "      <td>50</td>\n",
       "      <td>0</td>\n",
       "    </tr>\n",
       "    <tr>\n",
       "      <th>4</th>\n",
       "      <td>Technology</td>\n",
       "      <td>region_26</td>\n",
       "      <td>Bachelor's</td>\n",
       "      <td>m</td>\n",
       "      <td>other</td>\n",
       "      <td>1</td>\n",
       "      <td>45</td>\n",
       "      <td>3.0</td>\n",
       "      <td>2</td>\n",
       "      <td>0</td>\n",
       "      <td>0</td>\n",
       "      <td>73</td>\n",
       "      <td>0</td>\n",
       "    </tr>\n",
       "    <tr>\n",
       "      <th>...</th>\n",
       "      <td>...</td>\n",
       "      <td>...</td>\n",
       "      <td>...</td>\n",
       "      <td>...</td>\n",
       "      <td>...</td>\n",
       "      <td>...</td>\n",
       "      <td>...</td>\n",
       "      <td>...</td>\n",
       "      <td>...</td>\n",
       "      <td>...</td>\n",
       "      <td>...</td>\n",
       "      <td>...</td>\n",
       "      <td>...</td>\n",
       "    </tr>\n",
       "    <tr>\n",
       "      <th>54803</th>\n",
       "      <td>Technology</td>\n",
       "      <td>region_14</td>\n",
       "      <td>Bachelor's</td>\n",
       "      <td>m</td>\n",
       "      <td>sourcing</td>\n",
       "      <td>1</td>\n",
       "      <td>48</td>\n",
       "      <td>3.0</td>\n",
       "      <td>17</td>\n",
       "      <td>0</td>\n",
       "      <td>0</td>\n",
       "      <td>78</td>\n",
       "      <td>0</td>\n",
       "    </tr>\n",
       "    <tr>\n",
       "      <th>54804</th>\n",
       "      <td>Operations</td>\n",
       "      <td>region_27</td>\n",
       "      <td>Master's &amp; above</td>\n",
       "      <td>f</td>\n",
       "      <td>other</td>\n",
       "      <td>1</td>\n",
       "      <td>37</td>\n",
       "      <td>2.0</td>\n",
       "      <td>6</td>\n",
       "      <td>0</td>\n",
       "      <td>0</td>\n",
       "      <td>56</td>\n",
       "      <td>0</td>\n",
       "    </tr>\n",
       "    <tr>\n",
       "      <th>54805</th>\n",
       "      <td>Analytics</td>\n",
       "      <td>region_1</td>\n",
       "      <td>Bachelor's</td>\n",
       "      <td>m</td>\n",
       "      <td>other</td>\n",
       "      <td>1</td>\n",
       "      <td>27</td>\n",
       "      <td>5.0</td>\n",
       "      <td>3</td>\n",
       "      <td>1</td>\n",
       "      <td>0</td>\n",
       "      <td>79</td>\n",
       "      <td>0</td>\n",
       "    </tr>\n",
       "    <tr>\n",
       "      <th>54806</th>\n",
       "      <td>Sales &amp; Marketing</td>\n",
       "      <td>region_9</td>\n",
       "      <td>Bachelor's</td>\n",
       "      <td>m</td>\n",
       "      <td>sourcing</td>\n",
       "      <td>1</td>\n",
       "      <td>29</td>\n",
       "      <td>1.0</td>\n",
       "      <td>2</td>\n",
       "      <td>0</td>\n",
       "      <td>0</td>\n",
       "      <td>45</td>\n",
       "      <td>0</td>\n",
       "    </tr>\n",
       "    <tr>\n",
       "      <th>54807</th>\n",
       "      <td>HR</td>\n",
       "      <td>region_22</td>\n",
       "      <td>Bachelor's</td>\n",
       "      <td>m</td>\n",
       "      <td>other</td>\n",
       "      <td>1</td>\n",
       "      <td>27</td>\n",
       "      <td>1.0</td>\n",
       "      <td>5</td>\n",
       "      <td>0</td>\n",
       "      <td>0</td>\n",
       "      <td>49</td>\n",
       "      <td>0</td>\n",
       "    </tr>\n",
       "  </tbody>\n",
       "</table>\n",
       "<p>54808 rows × 13 columns</p>\n",
       "</div>"
      ],
      "text/plain": [
       "              department     region         education gender  \\\n",
       "0      Sales & Marketing   region_7  Master's & above      f   \n",
       "1             Operations  region_22        Bachelor's      m   \n",
       "2      Sales & Marketing  region_19        Bachelor's      m   \n",
       "3      Sales & Marketing  region_23        Bachelor's      m   \n",
       "4             Technology  region_26        Bachelor's      m   \n",
       "...                  ...        ...               ...    ...   \n",
       "54803         Technology  region_14        Bachelor's      m   \n",
       "54804         Operations  region_27  Master's & above      f   \n",
       "54805          Analytics   region_1        Bachelor's      m   \n",
       "54806  Sales & Marketing   region_9        Bachelor's      m   \n",
       "54807                 HR  region_22        Bachelor's      m   \n",
       "\n",
       "      recruitment_channel  no_of_trainings  age  previous_year_rating  \\\n",
       "0                sourcing                1   35                   5.0   \n",
       "1                   other                1   30                   5.0   \n",
       "2                sourcing                1   34                   3.0   \n",
       "3                   other                2   39                   1.0   \n",
       "4                   other                1   45                   3.0   \n",
       "...                   ...              ...  ...                   ...   \n",
       "54803            sourcing                1   48                   3.0   \n",
       "54804               other                1   37                   2.0   \n",
       "54805               other                1   27                   5.0   \n",
       "54806            sourcing                1   29                   1.0   \n",
       "54807               other                1   27                   1.0   \n",
       "\n",
       "       length_of_service  KPIs_met >80%  awards_won?  avg_training_score  \\\n",
       "0                      8              1            0                  49   \n",
       "1                      4              0            0                  60   \n",
       "2                      7              0            0                  50   \n",
       "3                     10              0            0                  50   \n",
       "4                      2              0            0                  73   \n",
       "...                  ...            ...          ...                 ...   \n",
       "54803                 17              0            0                  78   \n",
       "54804                  6              0            0                  56   \n",
       "54805                  3              1            0                  79   \n",
       "54806                  2              0            0                  45   \n",
       "54807                  5              0            0                  49   \n",
       "\n",
       "       is_promoted  \n",
       "0                0  \n",
       "1                0  \n",
       "2                0  \n",
       "3                0  \n",
       "4                0  \n",
       "...            ...  \n",
       "54803            0  \n",
       "54804            0  \n",
       "54805            0  \n",
       "54806            0  \n",
       "54807            0  \n",
       "\n",
       "[54808 rows x 13 columns]"
      ]
     },
     "execution_count": 9,
     "metadata": {},
     "output_type": "execute_result"
    }
   ],
   "source": [
    "# uses map from above to replace missing values\n",
    "\n",
    "# create an empty df that will contain rows of only the imputed rows\n",
    "hr_df_nulls = hr_df_main.copy()\n",
    "hr_df_nulls.drop(hr_df_nulls.index, inplace=True)\n",
    "\n",
    "for dept in hr_df_main_map:\n",
    "    \n",
    "    hr_df_temp = hr_df_main[(hr_df_main.where(hr_df_main['department']==dept[0])['department']).notnull()]\\\n",
    "                            .fillna({'education':dept[1],'previous_year_rating':dept[2]})\n",
    "    \n",
    "    hr_df_nulls = pd.concat([hr_df_nulls,hr_df_temp])\n",
    "\n",
    "# update main dataframe with imputed values\n",
    "hr_df_main.update(hr_df_nulls)\n",
    "hr_df_main"
   ]
  },
  {
   "cell_type": "markdown",
   "metadata": {},
   "source": [
    "Check for nulls"
   ]
  },
  {
   "cell_type": "code",
   "execution_count": 10,
   "metadata": {},
   "outputs": [
    {
     "data": {
      "text/plain": [
       "department              0\n",
       "region                  0\n",
       "education               0\n",
       "gender                  0\n",
       "recruitment_channel     0\n",
       "no_of_trainings         0\n",
       "age                     0\n",
       "previous_year_rating    0\n",
       "length_of_service       0\n",
       "KPIs_met >80%           0\n",
       "awards_won?             0\n",
       "avg_training_score      0\n",
       "is_promoted             0\n",
       "dtype: int64"
      ]
     },
     "execution_count": 10,
     "metadata": {},
     "output_type": "execute_result"
    }
   ],
   "source": [
    "hr_df_main.isnull().sum()"
   ]
  },
  {
   "cell_type": "markdown",
   "metadata": {},
   "source": [
    "### 1.1.3 Dealing with Outliers"
   ]
  },
  {
   "cell_type": "markdown",
   "metadata": {},
   "source": [
    "Identify continuous variables"
   ]
  },
  {
   "cell_type": "code",
   "execution_count": 11,
   "metadata": {},
   "outputs": [
    {
     "data": {
      "text/plain": [
       "department               object\n",
       "region                   object\n",
       "education                object\n",
       "gender                   object\n",
       "recruitment_channel      object\n",
       "no_of_trainings           int64\n",
       "age                       int64\n",
       "previous_year_rating    float64\n",
       "length_of_service         int64\n",
       "KPIs_met >80%             int64\n",
       "awards_won?               int64\n",
       "avg_training_score        int64\n",
       "is_promoted               int64\n",
       "dtype: object"
      ]
     },
     "execution_count": 11,
     "metadata": {},
     "output_type": "execute_result"
    }
   ],
   "source": [
    "hr_df_main.dtypes"
   ]
  },
  {
   "cell_type": "markdown",
   "metadata": {},
   "source": [
    "Only age,length_of_service and avg_training_score will be considered for outlier handling</br>\n",
    "no_of_trainings, previous_year_rating and all other int64 variables will be treated as categorical values"
   ]
  },
  {
   "cell_type": "code",
   "execution_count": 12,
   "metadata": {},
   "outputs": [
    {
     "data": {
      "text/html": [
       "<div>\n",
       "<style scoped>\n",
       "    .dataframe tbody tr th:only-of-type {\n",
       "        vertical-align: middle;\n",
       "    }\n",
       "\n",
       "    .dataframe tbody tr th {\n",
       "        vertical-align: top;\n",
       "    }\n",
       "\n",
       "    .dataframe thead th {\n",
       "        text-align: right;\n",
       "    }\n",
       "</style>\n",
       "<table border=\"1\" class=\"dataframe\">\n",
       "  <thead>\n",
       "    <tr style=\"text-align: right;\">\n",
       "      <th></th>\n",
       "      <th>age</th>\n",
       "      <th>length_of_service</th>\n",
       "      <th>avg_training_score</th>\n",
       "    </tr>\n",
       "  </thead>\n",
       "  <tbody>\n",
       "    <tr>\n",
       "      <th>0</th>\n",
       "      <td>35</td>\n",
       "      <td>8</td>\n",
       "      <td>49</td>\n",
       "    </tr>\n",
       "    <tr>\n",
       "      <th>1</th>\n",
       "      <td>30</td>\n",
       "      <td>4</td>\n",
       "      <td>60</td>\n",
       "    </tr>\n",
       "    <tr>\n",
       "      <th>2</th>\n",
       "      <td>34</td>\n",
       "      <td>7</td>\n",
       "      <td>50</td>\n",
       "    </tr>\n",
       "    <tr>\n",
       "      <th>3</th>\n",
       "      <td>39</td>\n",
       "      <td>10</td>\n",
       "      <td>50</td>\n",
       "    </tr>\n",
       "    <tr>\n",
       "      <th>4</th>\n",
       "      <td>45</td>\n",
       "      <td>2</td>\n",
       "      <td>73</td>\n",
       "    </tr>\n",
       "    <tr>\n",
       "      <th>...</th>\n",
       "      <td>...</td>\n",
       "      <td>...</td>\n",
       "      <td>...</td>\n",
       "    </tr>\n",
       "    <tr>\n",
       "      <th>54803</th>\n",
       "      <td>48</td>\n",
       "      <td>17</td>\n",
       "      <td>78</td>\n",
       "    </tr>\n",
       "    <tr>\n",
       "      <th>54804</th>\n",
       "      <td>37</td>\n",
       "      <td>6</td>\n",
       "      <td>56</td>\n",
       "    </tr>\n",
       "    <tr>\n",
       "      <th>54805</th>\n",
       "      <td>27</td>\n",
       "      <td>3</td>\n",
       "      <td>79</td>\n",
       "    </tr>\n",
       "    <tr>\n",
       "      <th>54806</th>\n",
       "      <td>29</td>\n",
       "      <td>2</td>\n",
       "      <td>45</td>\n",
       "    </tr>\n",
       "    <tr>\n",
       "      <th>54807</th>\n",
       "      <td>27</td>\n",
       "      <td>5</td>\n",
       "      <td>49</td>\n",
       "    </tr>\n",
       "  </tbody>\n",
       "</table>\n",
       "<p>54808 rows × 3 columns</p>\n",
       "</div>"
      ],
      "text/plain": [
       "       age  length_of_service  avg_training_score\n",
       "0       35                  8                  49\n",
       "1       30                  4                  60\n",
       "2       34                  7                  50\n",
       "3       39                 10                  50\n",
       "4       45                  2                  73\n",
       "...    ...                ...                 ...\n",
       "54803   48                 17                  78\n",
       "54804   37                  6                  56\n",
       "54805   27                  3                  79\n",
       "54806   29                  2                  45\n",
       "54807   27                  5                  49\n",
       "\n",
       "[54808 rows x 3 columns]"
      ]
     },
     "execution_count": 12,
     "metadata": {},
     "output_type": "execute_result"
    }
   ],
   "source": [
    "# get continuous variables\n",
    "hr_df_outliers = hr_df_main[['age','length_of_service','avg_training_score']].copy()\n",
    "hr_df_outliers"
   ]
  },
  {
   "cell_type": "markdown",
   "metadata": {},
   "source": [
    "Visualise continuous variables"
   ]
  },
  {
   "cell_type": "code",
   "execution_count": 13,
   "metadata": {},
   "outputs": [
    {
     "name": "stderr",
     "output_type": "stream",
     "text": [
      "c:\\ProgramData\\Anaconda3\\lib\\site-packages\\seaborn\\distributions.py:2619: FutureWarning: `distplot` is a deprecated function and will be removed in a future version. Please adapt your code to use either `displot` (a figure-level function with similar flexibility) or `histplot` (an axes-level function for histograms).\n",
      "  warnings.warn(msg, FutureWarning)\n"
     ]
    },
    {
     "data": {
      "image/png": "[encoded data removed]",
      "text/plain": [
       "<Figure size 1152x288 with 3 Axes>"
      ]
     },
     "metadata": {
      "needs_background": "light"
     },
     "output_type": "display_data"
    },
    {
     "name": "stderr",
     "output_type": "stream",
     "text": [
      "c:\\ProgramData\\Anaconda3\\lib\\site-packages\\seaborn\\distributions.py:2619: FutureWarning: `distplot` is a deprecated function and will be removed in a future version. Please adapt your code to use either `displot` (a figure-level function with similar flexibility) or `histplot` (an axes-level function for histograms).\n",
      "  warnings.warn(msg, FutureWarning)\n"
     ]
    },
    {
     "data": {
      "image/png": "[encoded data removed]",
      "text/plain": [
       "<Figure size 1152x288 with 3 Axes>"
      ]
     },
     "metadata": {
      "needs_background": "light"
     },
     "output_type": "display_data"
    },
    {
     "name": "stderr",
     "output_type": "stream",
     "text": [
      "c:\\ProgramData\\Anaconda3\\lib\\site-packages\\seaborn\\distributions.py:2619: FutureWarning: `distplot` is a deprecated function and will be removed in a future version. Please adapt your code to use either `displot` (a figure-level function with similar flexibility) or `histplot` (an axes-level function for histograms).\n",
      "  warnings.warn(msg, FutureWarning)\n"
     ]
    },
    {
     "data": {
      "image/png": "[encoded data removed]",
      "text/plain": [
       "<Figure size 1152x288 with 3 Axes>"
      ]
     },
     "metadata": {
      "needs_background": "light"
     },
     "output_type": "display_data"
    }
   ],
   "source": [
    "for cols in hr_df_outliers:\n",
    "    diagnostic_plots(hr_df_outliers, cols)"
   ]
  },
  {
   "cell_type": "markdown",
   "metadata": {},
   "source": [
    "Perform winsorization on outliers"
   ]
  },
  {
   "cell_type": "code",
   "execution_count": 14,
   "metadata": {},
   "outputs": [],
   "source": [
    "# winsorize the outliers\n",
    "windsorizer = Winsorizer(capping_method='iqr', \n",
    "                          tail='right', \n",
    "                          fold=3,\n",
    "                          variables=['length_of_service'])\n",
    "\n",
    "windsorizer.fit(hr_df_main)\n",
    "hr_df_main = windsorizer.transform(hr_df_main)"
   ]
  },
  {
   "cell_type": "markdown",
   "metadata": {},
   "source": [
    "Verify winsorization effect"
   ]
  },
  {
   "cell_type": "code",
   "execution_count": 15,
   "metadata": {},
   "outputs": [
    {
     "name": "stderr",
     "output_type": "stream",
     "text": [
      "c:\\ProgramData\\Anaconda3\\lib\\site-packages\\seaborn\\distributions.py:2619: FutureWarning: `distplot` is a deprecated function and will be removed in a future version. Please adapt your code to use either `displot` (a figure-level function with similar flexibility) or `histplot` (an axes-level function for histograms).\n",
      "  warnings.warn(msg, FutureWarning)\n"
     ]
    },
    {
     "data": {
      "image/png": "[encoded data removed]",
      "text/plain": [
       "<Figure size 1152x288 with 3 Axes>"
      ]
     },
     "metadata": {
      "needs_background": "light"
     },
     "output_type": "display_data"
    }
   ],
   "source": [
    "diagnostic_plots(hr_df_main, 'length_of_service')"
   ]
  },
  {
   "cell_type": "markdown",
   "metadata": {},
   "source": [
    "### 1.1.4 Stratified Sampling"
   ]
  },
  {
   "cell_type": "code",
   "execution_count": 16,
   "metadata": {},
   "outputs": [
    {
     "data": {
      "text/html": [
       "<div>\n",
       "<style scoped>\n",
       "    .dataframe tbody tr th:only-of-type {\n",
       "        vertical-align: middle;\n",
       "    }\n",
       "\n",
       "    .dataframe tbody tr th {\n",
       "        vertical-align: top;\n",
       "    }\n",
       "\n",
       "    .dataframe thead th {\n",
       "        text-align: right;\n",
       "    }\n",
       "</style>\n",
       "<table border=\"1\" class=\"dataframe\">\n",
       "  <thead>\n",
       "    <tr style=\"text-align: right;\">\n",
       "      <th></th>\n",
       "      <th>department</th>\n",
       "      <th>region</th>\n",
       "      <th>education</th>\n",
       "      <th>gender</th>\n",
       "      <th>recruitment_channel</th>\n",
       "      <th>no_of_trainings</th>\n",
       "      <th>age</th>\n",
       "      <th>previous_year_rating</th>\n",
       "      <th>length_of_service</th>\n",
       "      <th>KPIs_met &gt;80%</th>\n",
       "      <th>awards_won?</th>\n",
       "      <th>avg_training_score</th>\n",
       "      <th>is_promoted</th>\n",
       "    </tr>\n",
       "  </thead>\n",
       "  <tbody>\n",
       "    <tr>\n",
       "      <th>11</th>\n",
       "      <td>Sales &amp; Marketing</td>\n",
       "      <td>region_7</td>\n",
       "      <td>Bachelor's</td>\n",
       "      <td>f</td>\n",
       "      <td>sourcing</td>\n",
       "      <td>1</td>\n",
       "      <td>35</td>\n",
       "      <td>5.0</td>\n",
       "      <td>3.0</td>\n",
       "      <td>1</td>\n",
       "      <td>0</td>\n",
       "      <td>50</td>\n",
       "      <td>1</td>\n",
       "    </tr>\n",
       "    <tr>\n",
       "      <th>39</th>\n",
       "      <td>Sales &amp; Marketing</td>\n",
       "      <td>region_28</td>\n",
       "      <td>Bachelor's</td>\n",
       "      <td>m</td>\n",
       "      <td>sourcing</td>\n",
       "      <td>1</td>\n",
       "      <td>33</td>\n",
       "      <td>5.0</td>\n",
       "      <td>6.0</td>\n",
       "      <td>1</td>\n",
       "      <td>0</td>\n",
       "      <td>51</td>\n",
       "      <td>1</td>\n",
       "    </tr>\n",
       "    <tr>\n",
       "      <th>60</th>\n",
       "      <td>Sales &amp; Marketing</td>\n",
       "      <td>region_4</td>\n",
       "      <td>Master's &amp; above</td>\n",
       "      <td>m</td>\n",
       "      <td>other</td>\n",
       "      <td>1</td>\n",
       "      <td>50</td>\n",
       "      <td>4.0</td>\n",
       "      <td>17.0</td>\n",
       "      <td>1</td>\n",
       "      <td>0</td>\n",
       "      <td>47</td>\n",
       "      <td>1</td>\n",
       "    </tr>\n",
       "    <tr>\n",
       "      <th>66</th>\n",
       "      <td>Finance</td>\n",
       "      <td>region_22</td>\n",
       "      <td>Bachelor's</td>\n",
       "      <td>m</td>\n",
       "      <td>other</td>\n",
       "      <td>1</td>\n",
       "      <td>27</td>\n",
       "      <td>3.0</td>\n",
       "      <td>1.0</td>\n",
       "      <td>1</td>\n",
       "      <td>1</td>\n",
       "      <td>58</td>\n",
       "      <td>1</td>\n",
       "    </tr>\n",
       "    <tr>\n",
       "      <th>67</th>\n",
       "      <td>Sales &amp; Marketing</td>\n",
       "      <td>region_22</td>\n",
       "      <td>Bachelor's</td>\n",
       "      <td>m</td>\n",
       "      <td>sourcing</td>\n",
       "      <td>1</td>\n",
       "      <td>27</td>\n",
       "      <td>3.0</td>\n",
       "      <td>1.0</td>\n",
       "      <td>0</td>\n",
       "      <td>0</td>\n",
       "      <td>61</td>\n",
       "      <td>1</td>\n",
       "    </tr>\n",
       "  </tbody>\n",
       "</table>\n",
       "</div>"
      ],
      "text/plain": [
       "           department     region         education gender recruitment_channel  \\\n",
       "11  Sales & Marketing   region_7        Bachelor's      f            sourcing   \n",
       "39  Sales & Marketing  region_28        Bachelor's      m            sourcing   \n",
       "60  Sales & Marketing   region_4  Master's & above      m               other   \n",
       "66            Finance  region_22        Bachelor's      m               other   \n",
       "67  Sales & Marketing  region_22        Bachelor's      m            sourcing   \n",
       "\n",
       "    no_of_trainings  age  previous_year_rating  length_of_service  \\\n",
       "11                1   35                   5.0                3.0   \n",
       "39                1   33                   5.0                6.0   \n",
       "60                1   50                   4.0               17.0   \n",
       "66                1   27                   3.0                1.0   \n",
       "67                1   27                   3.0                1.0   \n",
       "\n",
       "    KPIs_met >80%  awards_won?  avg_training_score  is_promoted  \n",
       "11              1            0                  50            1  \n",
       "39              1            0                  51            1  \n",
       "60              1            0                  47            1  \n",
       "66              1            1                  58            1  \n",
       "67              0            0                  61            1  "
      ]
     },
     "execution_count": 16,
     "metadata": {},
     "output_type": "execute_result"
    }
   ],
   "source": [
    "hr_df_true=hr_df_main[hr_df_main['is_promoted']==1]\n",
    "hr_df_true.head()"
   ]
  },
  {
   "cell_type": "code",
   "execution_count": 17,
   "metadata": {},
   "outputs": [
    {
     "data": {
      "text/plain": [
       "4668"
      ]
     },
     "execution_count": 17,
     "metadata": {},
     "output_type": "execute_result"
    }
   ],
   "source": [
    "len(hr_df_true)"
   ]
  },
  {
   "cell_type": "code",
   "execution_count": 18,
   "metadata": {},
   "outputs": [
    {
     "data": {
      "text/html": [
       "<div>\n",
       "<style scoped>\n",
       "    .dataframe tbody tr th:only-of-type {\n",
       "        vertical-align: middle;\n",
       "    }\n",
       "\n",
       "    .dataframe tbody tr th {\n",
       "        vertical-align: top;\n",
       "    }\n",
       "\n",
       "    .dataframe thead th {\n",
       "        text-align: right;\n",
       "    }\n",
       "</style>\n",
       "<table border=\"1\" class=\"dataframe\">\n",
       "  <thead>\n",
       "    <tr style=\"text-align: right;\">\n",
       "      <th></th>\n",
       "      <th>department</th>\n",
       "      <th>region</th>\n",
       "      <th>education</th>\n",
       "      <th>gender</th>\n",
       "      <th>recruitment_channel</th>\n",
       "      <th>no_of_trainings</th>\n",
       "      <th>age</th>\n",
       "      <th>previous_year_rating</th>\n",
       "      <th>length_of_service</th>\n",
       "      <th>KPIs_met &gt;80%</th>\n",
       "      <th>awards_won?</th>\n",
       "      <th>avg_training_score</th>\n",
       "      <th>is_promoted</th>\n",
       "    </tr>\n",
       "  </thead>\n",
       "  <tbody>\n",
       "    <tr>\n",
       "      <th>0</th>\n",
       "      <td>Sales &amp; Marketing</td>\n",
       "      <td>region_7</td>\n",
       "      <td>Master's &amp; above</td>\n",
       "      <td>f</td>\n",
       "      <td>sourcing</td>\n",
       "      <td>1</td>\n",
       "      <td>35</td>\n",
       "      <td>5.0</td>\n",
       "      <td>8.0</td>\n",
       "      <td>1</td>\n",
       "      <td>0</td>\n",
       "      <td>49</td>\n",
       "      <td>0</td>\n",
       "    </tr>\n",
       "    <tr>\n",
       "      <th>1</th>\n",
       "      <td>Operations</td>\n",
       "      <td>region_22</td>\n",
       "      <td>Bachelor's</td>\n",
       "      <td>m</td>\n",
       "      <td>other</td>\n",
       "      <td>1</td>\n",
       "      <td>30</td>\n",
       "      <td>5.0</td>\n",
       "      <td>4.0</td>\n",
       "      <td>0</td>\n",
       "      <td>0</td>\n",
       "      <td>60</td>\n",
       "      <td>0</td>\n",
       "    </tr>\n",
       "    <tr>\n",
       "      <th>2</th>\n",
       "      <td>Sales &amp; Marketing</td>\n",
       "      <td>region_19</td>\n",
       "      <td>Bachelor's</td>\n",
       "      <td>m</td>\n",
       "      <td>sourcing</td>\n",
       "      <td>1</td>\n",
       "      <td>34</td>\n",
       "      <td>3.0</td>\n",
       "      <td>7.0</td>\n",
       "      <td>0</td>\n",
       "      <td>0</td>\n",
       "      <td>50</td>\n",
       "      <td>0</td>\n",
       "    </tr>\n",
       "    <tr>\n",
       "      <th>3</th>\n",
       "      <td>Sales &amp; Marketing</td>\n",
       "      <td>region_23</td>\n",
       "      <td>Bachelor's</td>\n",
       "      <td>m</td>\n",
       "      <td>other</td>\n",
       "      <td>2</td>\n",
       "      <td>39</td>\n",
       "      <td>1.0</td>\n",
       "      <td>10.0</td>\n",
       "      <td>0</td>\n",
       "      <td>0</td>\n",
       "      <td>50</td>\n",
       "      <td>0</td>\n",
       "    </tr>\n",
       "    <tr>\n",
       "      <th>4</th>\n",
       "      <td>Technology</td>\n",
       "      <td>region_26</td>\n",
       "      <td>Bachelor's</td>\n",
       "      <td>m</td>\n",
       "      <td>other</td>\n",
       "      <td>1</td>\n",
       "      <td>45</td>\n",
       "      <td>3.0</td>\n",
       "      <td>2.0</td>\n",
       "      <td>0</td>\n",
       "      <td>0</td>\n",
       "      <td>73</td>\n",
       "      <td>0</td>\n",
       "    </tr>\n",
       "  </tbody>\n",
       "</table>\n",
       "</div>"
      ],
      "text/plain": [
       "          department     region         education gender recruitment_channel  \\\n",
       "0  Sales & Marketing   region_7  Master's & above      f            sourcing   \n",
       "1         Operations  region_22        Bachelor's      m               other   \n",
       "2  Sales & Marketing  region_19        Bachelor's      m            sourcing   \n",
       "3  Sales & Marketing  region_23        Bachelor's      m               other   \n",
       "4         Technology  region_26        Bachelor's      m               other   \n",
       "\n",
       "   no_of_trainings  age  previous_year_rating  length_of_service  \\\n",
       "0                1   35                   5.0                8.0   \n",
       "1                1   30                   5.0                4.0   \n",
       "2                1   34                   3.0                7.0   \n",
       "3                2   39                   1.0               10.0   \n",
       "4                1   45                   3.0                2.0   \n",
       "\n",
       "   KPIs_met >80%  awards_won?  avg_training_score  is_promoted  \n",
       "0              1            0                  49            0  \n",
       "1              0            0                  60            0  \n",
       "2              0            0                  50            0  \n",
       "3              0            0                  50            0  \n",
       "4              0            0                  73            0  "
      ]
     },
     "execution_count": 18,
     "metadata": {},
     "output_type": "execute_result"
    }
   ],
   "source": [
    "hr_df_false=hr_df_main[hr_df_main['is_promoted']==0]\n",
    "hr_df_false.head()"
   ]
  },
  {
   "cell_type": "code",
   "execution_count": 19,
   "metadata": {},
   "outputs": [
    {
     "data": {
      "text/plain": [
       "50140"
      ]
     },
     "execution_count": 19,
     "metadata": {},
     "output_type": "execute_result"
    }
   ],
   "source": [
    "len(hr_df_false)"
   ]
  },
  {
   "cell_type": "code",
   "execution_count": 20,
   "metadata": {},
   "outputs": [
    {
     "name": "stdout",
     "output_type": "stream",
     "text": [
      "<class 'pandas.core.frame.DataFrame'>\n",
      "Int64Index: 4668 entries, 15424 to 22461\n",
      "Data columns (total 13 columns):\n",
      " #   Column                Non-Null Count  Dtype  \n",
      "---  ------                --------------  -----  \n",
      " 0   department            4668 non-null   object \n",
      " 1   region                4668 non-null   object \n",
      " 2   education             4668 non-null   object \n",
      " 3   gender                4668 non-null   object \n",
      " 4   recruitment_channel   4668 non-null   object \n",
      " 5   no_of_trainings       4668 non-null   int64  \n",
      " 6   age                   4668 non-null   int64  \n",
      " 7   previous_year_rating  4668 non-null   float64\n",
      " 8   length_of_service     4668 non-null   float64\n",
      " 9   KPIs_met >80%         4668 non-null   int64  \n",
      " 10  awards_won?           4668 non-null   int64  \n",
      " 11  avg_training_score    4668 non-null   int64  \n",
      " 12  is_promoted           4668 non-null   int64  \n",
      "dtypes: float64(2), int64(6), object(5)\n",
      "memory usage: 510.6+ KB\n"
     ]
    }
   ],
   "source": [
    "hr_df_sampled = hr_df_false.sample(n=len(hr_df_true), random_state=30).copy()\n",
    "hr_df_sampled.info()"
   ]
  },
  {
   "cell_type": "code",
   "execution_count": 21,
   "metadata": {},
   "outputs": [
    {
     "data": {
      "text/plain": [
       "0    50140\n",
       "1     4668\n",
       "Name: is_promoted, dtype: int64"
      ]
     },
     "execution_count": 21,
     "metadata": {},
     "output_type": "execute_result"
    }
   ],
   "source": [
    "hr_df_main['is_promoted'].value_counts()"
   ]
  },
  {
   "cell_type": "code",
   "execution_count": 22,
   "metadata": {},
   "outputs": [
    {
     "data": {
      "text/plain": [
       "1    4668\n",
       "0    4668\n",
       "Name: is_promoted, dtype: int64"
      ]
     },
     "execution_count": 22,
     "metadata": {},
     "output_type": "execute_result"
    }
   ],
   "source": [
    "hr_df_stratified=pd.concat([hr_df_true,hr_df_sampled],axis=0)\n",
    "hr_df_main = hr_df_stratified\n",
    "hr_df_main['is_promoted'].value_counts()"
   ]
  },
  {
   "cell_type": "code",
   "execution_count": 23,
   "metadata": {},
   "outputs": [
    {
     "data": {
      "text/plain": [
       "Sales & Marketing    2628\n",
       "Operations           1985\n",
       "Technology           1342\n",
       "Procurement          1313\n",
       "Analytics             977\n",
       "Finance               409\n",
       "HR                    382\n",
       "R&D                   159\n",
       "Legal                 141\n",
       "Name: department, dtype: int64"
      ]
     },
     "execution_count": 23,
     "metadata": {},
     "output_type": "execute_result"
    }
   ],
   "source": [
    "hr_df_main['department'].value_counts()"
   ]
  },
  {
   "cell_type": "markdown",
   "metadata": {},
   "source": [
    "### 1.1.5 Categorical Encoding"
   ]
  },
  {
   "cell_type": "markdown",
   "metadata": {},
   "source": [
    "Identify categorical variables"
   ]
  },
  {
   "cell_type": "code",
   "execution_count": 24,
   "metadata": {},
   "outputs": [
    {
     "data": {
      "text/plain": [
       "department              9\n",
       "region                 34\n",
       "education               3\n",
       "recruitment_channel     3\n",
       "gender                  2\n",
       "dtype: int64"
      ]
     },
     "execution_count": 24,
     "metadata": {},
     "output_type": "execute_result"
    }
   ],
   "source": [
    "# get categorical variables that need encoding\n",
    "hr_df_categorical = hr_df_main[['department','region','education','recruitment_channel','gender']].copy()\n",
    "hr_df_categorical.nunique()"
   ]
  },
  {
   "cell_type": "markdown",
   "metadata": {},
   "source": [
    "Perform ordinal encoding to remove strings"
   ]
  },
  {
   "cell_type": "code",
   "execution_count": 25,
   "metadata": {},
   "outputs": [],
   "source": [
    "# ordinal encoding\n",
    "# creates a map or integers ordered by the grouped mean relation to the target varaible 'is_promoted'\n",
    "# this makes sure that as integer value increases, likelyhood of 'is_promoted' increases as well\n",
    "\n",
    "# create a temporary dataframe to see change from encoding\n",
    "hr_df_main_before = hr_df_main.copy()\n",
    "\n",
    "for col in hr_df_categorical:\n",
    "    # let's generate an ordered list with the labels of the columns\n",
    "    ordered_labels = hr_df_main.groupby([col])['is_promoted'].mean().sort_values().index\n",
    "\n",
    "    # next let's create a dictionary with the mappings of categories to numbers\n",
    "    ordinal_mapping = {k: i for i, k in enumerate(ordered_labels, 0)}\n",
    "\n",
    "    # replace the labels with the ordered numbers\n",
    "    hr_df_main[col] = hr_df_main[col].map(ordinal_mapping)"
   ]
  },
  {
   "cell_type": "markdown",
   "metadata": {},
   "source": [
    "Visualise change"
   ]
  },
  {
   "cell_type": "code",
   "execution_count": 26,
   "metadata": {},
   "outputs": [
    {
     "data": {
      "image/png": "[encoded data removed]",
      "text/plain": [
       "<Figure size 864x288 with 2 Axes>"
      ]
     },
     "metadata": {
      "needs_background": "light"
     },
     "output_type": "display_data"
    },
    {
     "data": {
      "image/png": "[encoded data removed]",
      "text/plain": [
       "<Figure size 864x288 with 2 Axes>"
      ]
     },
     "metadata": {
      "needs_background": "light"
     },
     "output_type": "display_data"
    },
    {
     "data": {
      "image/png": "[encoded data removed]",
      "text/plain": [
       "<Figure size 864x288 with 2 Axes>"
      ]
     },
     "metadata": {
      "needs_background": "light"
     },
     "output_type": "display_data"
    },
    {
     "data": {
      "image/png": "[encoded data removed]",
      "text/plain": [
       "<Figure size 864x288 with 2 Axes>"
      ]
     },
     "metadata": {
      "needs_background": "light"
     },
     "output_type": "display_data"
    },
    {
     "data": {
      "image/png": "[encoded data removed]",
      "text/plain": [
       "<Figure size 864x288 with 2 Axes>"
      ]
     },
     "metadata": {
      "needs_background": "light"
     },
     "output_type": "display_data"
    }
   ],
   "source": [
    "# let's find visualise the distributions\n",
    "for col in hr_df_categorical:\n",
    "    diagnostic_plots_monotonic_relation(hr_df_main_before, hr_df_main, col, 'is_promoted')"
   ]
  },
  {
   "cell_type": "markdown",
   "metadata": {},
   "source": [
    "### 1.1.6 Numerical Transformation"
   ]
  },
  {
   "cell_type": "code",
   "execution_count": 27,
   "metadata": {},
   "outputs": [
    {
     "data": {
      "text/html": [
       "<div>\n",
       "<style scoped>\n",
       "    .dataframe tbody tr th:only-of-type {\n",
       "        vertical-align: middle;\n",
       "    }\n",
       "\n",
       "    .dataframe tbody tr th {\n",
       "        vertical-align: top;\n",
       "    }\n",
       "\n",
       "    .dataframe thead th {\n",
       "        text-align: right;\n",
       "    }\n",
       "</style>\n",
       "<table border=\"1\" class=\"dataframe\">\n",
       "  <thead>\n",
       "    <tr style=\"text-align: right;\">\n",
       "      <th></th>\n",
       "      <th>age</th>\n",
       "      <th>length_of_service</th>\n",
       "    </tr>\n",
       "  </thead>\n",
       "  <tbody>\n",
       "    <tr>\n",
       "      <th>11</th>\n",
       "      <td>35</td>\n",
       "      <td>3.0</td>\n",
       "    </tr>\n",
       "    <tr>\n",
       "      <th>39</th>\n",
       "      <td>33</td>\n",
       "      <td>6.0</td>\n",
       "    </tr>\n",
       "    <tr>\n",
       "      <th>60</th>\n",
       "      <td>50</td>\n",
       "      <td>17.0</td>\n",
       "    </tr>\n",
       "    <tr>\n",
       "      <th>66</th>\n",
       "      <td>27</td>\n",
       "      <td>1.0</td>\n",
       "    </tr>\n",
       "    <tr>\n",
       "      <th>67</th>\n",
       "      <td>27</td>\n",
       "      <td>1.0</td>\n",
       "    </tr>\n",
       "    <tr>\n",
       "      <th>...</th>\n",
       "      <td>...</td>\n",
       "      <td>...</td>\n",
       "    </tr>\n",
       "    <tr>\n",
       "      <th>40403</th>\n",
       "      <td>32</td>\n",
       "      <td>6.0</td>\n",
       "    </tr>\n",
       "    <tr>\n",
       "      <th>39304</th>\n",
       "      <td>48</td>\n",
       "      <td>14.0</td>\n",
       "    </tr>\n",
       "    <tr>\n",
       "      <th>22849</th>\n",
       "      <td>46</td>\n",
       "      <td>11.0</td>\n",
       "    </tr>\n",
       "    <tr>\n",
       "      <th>48620</th>\n",
       "      <td>33</td>\n",
       "      <td>6.0</td>\n",
       "    </tr>\n",
       "    <tr>\n",
       "      <th>22461</th>\n",
       "      <td>24</td>\n",
       "      <td>2.0</td>\n",
       "    </tr>\n",
       "  </tbody>\n",
       "</table>\n",
       "<p>9336 rows × 2 columns</p>\n",
       "</div>"
      ],
      "text/plain": [
       "       age  length_of_service\n",
       "11      35                3.0\n",
       "39      33                6.0\n",
       "60      50               17.0\n",
       "66      27                1.0\n",
       "67      27                1.0\n",
       "...    ...                ...\n",
       "40403   32                6.0\n",
       "39304   48               14.0\n",
       "22849   46               11.0\n",
       "48620   33                6.0\n",
       "22461   24                2.0\n",
       "\n",
       "[9336 rows x 2 columns]"
      ]
     },
     "execution_count": 27,
     "metadata": {},
     "output_type": "execute_result"
    }
   ],
   "source": [
    "# get continuous variables\n",
    "hr_df_transform = hr_df_main[['age','length_of_service']].copy()\n",
    "hr_df_transform"
   ]
  },
  {
   "cell_type": "code",
   "execution_count": 28,
   "metadata": {},
   "outputs": [
    {
     "name": "stderr",
     "output_type": "stream",
     "text": [
      "c:\\ProgramData\\Anaconda3\\lib\\site-packages\\seaborn\\distributions.py:2619: FutureWarning: `distplot` is a deprecated function and will be removed in a future version. Please adapt your code to use either `displot` (a figure-level function with similar flexibility) or `histplot` (an axes-level function for histograms).\n",
      "  warnings.warn(msg, FutureWarning)\n"
     ]
    },
    {
     "data": {
      "image/png": "[encoded data removed]",
      "text/plain": [
       "<Figure size 1152x288 with 3 Axes>"
      ]
     },
     "metadata": {
      "needs_background": "light"
     },
     "output_type": "display_data"
    },
    {
     "name": "stderr",
     "output_type": "stream",
     "text": [
      "c:\\ProgramData\\Anaconda3\\lib\\site-packages\\seaborn\\distributions.py:2619: FutureWarning: `distplot` is a deprecated function and will be removed in a future version. Please adapt your code to use either `displot` (a figure-level function with similar flexibility) or `histplot` (an axes-level function for histograms).\n",
      "  warnings.warn(msg, FutureWarning)\n"
     ]
    },
    {
     "data": {
      "image/png": "[encoded data removed]",
      "text/plain": [
       "<Figure size 1152x288 with 3 Axes>"
      ]
     },
     "metadata": {
      "needs_background": "light"
     },
     "output_type": "display_data"
    }
   ],
   "source": [
    "for cols in hr_df_transform:\n",
    "    diagnostic_plots(hr_df_transform, cols)"
   ]
  },
  {
   "cell_type": "code",
   "execution_count": 29,
   "metadata": {},
   "outputs": [
    {
     "data": {
      "text/plain": [
       "['age', 'length_of_service']"
      ]
     },
     "execution_count": 29,
     "metadata": {},
     "output_type": "execute_result"
    }
   ],
   "source": [
    "hr_df_transform.columns.tolist()"
   ]
  },
  {
   "cell_type": "code",
   "execution_count": 30,
   "metadata": {},
   "outputs": [],
   "source": [
    "# initialize the transformer\n",
    "# YeoJohnson\n",
    "ygt = YeoJohnsonTransformer(variables=hr_df_transform.columns.tolist())\n",
    "# fit transformer to data set\n",
    "ygt.fit(hr_df_main)\n",
    "# transform variables within our data set\n",
    "hr_df_main = ygt.transform(hr_df_main)"
   ]
  },
  {
   "cell_type": "code",
   "execution_count": 31,
   "metadata": {},
   "outputs": [
    {
     "name": "stderr",
     "output_type": "stream",
     "text": [
      "c:\\ProgramData\\Anaconda3\\lib\\site-packages\\seaborn\\distributions.py:2619: FutureWarning: `distplot` is a deprecated function and will be removed in a future version. Please adapt your code to use either `displot` (a figure-level function with similar flexibility) or `histplot` (an axes-level function for histograms).\n",
      "  warnings.warn(msg, FutureWarning)\n"
     ]
    },
    {
     "data": {
      "image/png": "[encoded data removed]",
      "text/plain": [
       "<Figure size 1152x288 with 3 Axes>"
      ]
     },
     "metadata": {
      "needs_background": "light"
     },
     "output_type": "display_data"
    },
    {
     "name": "stderr",
     "output_type": "stream",
     "text": [
      "c:\\ProgramData\\Anaconda3\\lib\\site-packages\\seaborn\\distributions.py:2619: FutureWarning: `distplot` is a deprecated function and will be removed in a future version. Please adapt your code to use either `displot` (a figure-level function with similar flexibility) or `histplot` (an axes-level function for histograms).\n",
      "  warnings.warn(msg, FutureWarning)\n"
     ]
    },
    {
     "data": {
      "image/png": "[encoded data removed]",
      "text/plain": [
       "<Figure size 1152x288 with 3 Axes>"
      ]
     },
     "metadata": {
      "needs_background": "light"
     },
     "output_type": "display_data"
    }
   ],
   "source": [
    "for cols in hr_df_transform:\n",
    "    diagnostic_plots(hr_df_main, cols)"
   ]
  },
  {
   "cell_type": "markdown",
   "metadata": {},
   "source": [
    "### 1.1.7 Scaling"
   ]
  },
  {
   "cell_type": "code",
   "execution_count": 32,
   "metadata": {},
   "outputs": [],
   "source": [
    "# set up the  MinMax Scaler\n",
    "scaler = MinMaxScaler()\n",
    "\n",
    "# fit the scaler to the df_main, it will learn the parameters\n",
    "scaler.fit(hr_df_main)\n",
    "\n",
    "# transform df_main\n",
    "hr_df_scaled = scaler.transform(hr_df_main)\n",
    "\n",
    "# let's transform the returned NumPy arrays to dataframes\n",
    "hr_df_main = pd.DataFrame(hr_df_scaled, columns=hr_df_main.columns)\n"
   ]
  },
  {
   "cell_type": "markdown",
   "metadata": {},
   "source": [
    "## 1.2 Build the Model(s)"
   ]
  },
  {
   "cell_type": "markdown",
   "metadata": {},
   "source": [
    "### 1.2.1 Train Test Split "
   ]
  },
  {
   "cell_type": "code",
   "execution_count": 33,
   "metadata": {},
   "outputs": [
    {
     "data": {
      "text/plain": [
       "((6535, 12), (2801, 12), (6535,), (2801,))"
      ]
     },
     "execution_count": 33,
     "metadata": {},
     "output_type": "execute_result"
    }
   ],
   "source": [
    "# train test split with dropping of target variable in X datasets\n",
    "hr_X_train, hr_X_test, hr_y_train, hr_y_test = train_test_split(hr_df_main.drop('is_promoted', axis=1),\n",
    "                                                    hr_df_main['is_promoted'], \n",
    "                                                    test_size=0.3, \n",
    "                                                    random_state=10)\n",
    "\n",
    "hr_X_train.shape, hr_X_test.shape, hr_y_train.shape, hr_y_test.shape"
   ]
  },
  {
   "cell_type": "code",
   "execution_count": 34,
   "metadata": {},
   "outputs": [
    {
     "data": {
      "text/html": [
       "<div>\n",
       "<style scoped>\n",
       "    .dataframe tbody tr th:only-of-type {\n",
       "        vertical-align: middle;\n",
       "    }\n",
       "\n",
       "    .dataframe tbody tr th {\n",
       "        vertical-align: top;\n",
       "    }\n",
       "\n",
       "    .dataframe thead th {\n",
       "        text-align: right;\n",
       "    }\n",
       "</style>\n",
       "<table border=\"1\" class=\"dataframe\">\n",
       "  <thead>\n",
       "    <tr style=\"text-align: right;\">\n",
       "      <th></th>\n",
       "      <th>department</th>\n",
       "      <th>region</th>\n",
       "      <th>education</th>\n",
       "      <th>gender</th>\n",
       "      <th>recruitment_channel</th>\n",
       "      <th>no_of_trainings</th>\n",
       "      <th>age</th>\n",
       "      <th>previous_year_rating</th>\n",
       "      <th>length_of_service</th>\n",
       "      <th>KPIs_met &gt;80%</th>\n",
       "      <th>awards_won?</th>\n",
       "      <th>avg_training_score</th>\n",
       "    </tr>\n",
       "  </thead>\n",
       "  <tbody>\n",
       "    <tr>\n",
       "      <th>6333</th>\n",
       "      <td>0.625</td>\n",
       "      <td>0.636364</td>\n",
       "      <td>0.0</td>\n",
       "      <td>0.0</td>\n",
       "      <td>0.0</td>\n",
       "      <td>0.000000</td>\n",
       "      <td>0.341281</td>\n",
       "      <td>0.50</td>\n",
       "      <td>0.000000</td>\n",
       "      <td>1.0</td>\n",
       "      <td>0.0</td>\n",
       "      <td>0.372881</td>\n",
       "    </tr>\n",
       "    <tr>\n",
       "      <th>2078</th>\n",
       "      <td>0.125</td>\n",
       "      <td>0.636364</td>\n",
       "      <td>0.0</td>\n",
       "      <td>0.0</td>\n",
       "      <td>0.0</td>\n",
       "      <td>0.000000</td>\n",
       "      <td>0.494734</td>\n",
       "      <td>0.75</td>\n",
       "      <td>0.394548</td>\n",
       "      <td>1.0</td>\n",
       "      <td>0.0</td>\n",
       "      <td>0.338983</td>\n",
       "    </tr>\n",
       "    <tr>\n",
       "      <th>720</th>\n",
       "      <td>0.375</td>\n",
       "      <td>0.636364</td>\n",
       "      <td>1.0</td>\n",
       "      <td>0.0</td>\n",
       "      <td>0.0</td>\n",
       "      <td>0.000000</td>\n",
       "      <td>0.726804</td>\n",
       "      <td>0.50</td>\n",
       "      <td>0.695983</td>\n",
       "      <td>0.0</td>\n",
       "      <td>0.0</td>\n",
       "      <td>0.372881</td>\n",
       "    </tr>\n",
       "    <tr>\n",
       "      <th>5753</th>\n",
       "      <td>0.625</td>\n",
       "      <td>0.878788</td>\n",
       "      <td>0.0</td>\n",
       "      <td>0.0</td>\n",
       "      <td>0.5</td>\n",
       "      <td>0.000000</td>\n",
       "      <td>0.383801</td>\n",
       "      <td>0.75</td>\n",
       "      <td>0.298054</td>\n",
       "      <td>1.0</td>\n",
       "      <td>0.0</td>\n",
       "      <td>0.355932</td>\n",
       "    </tr>\n",
       "    <tr>\n",
       "      <th>6870</th>\n",
       "      <td>0.875</td>\n",
       "      <td>0.151515</td>\n",
       "      <td>0.0</td>\n",
       "      <td>0.0</td>\n",
       "      <td>0.5</td>\n",
       "      <td>0.000000</td>\n",
       "      <td>0.423357</td>\n",
       "      <td>0.00</td>\n",
       "      <td>0.298054</td>\n",
       "      <td>0.0</td>\n",
       "      <td>0.0</td>\n",
       "      <td>0.661017</td>\n",
       "    </tr>\n",
       "    <tr>\n",
       "      <th>...</th>\n",
       "      <td>...</td>\n",
       "      <td>...</td>\n",
       "      <td>...</td>\n",
       "      <td>...</td>\n",
       "      <td>...</td>\n",
       "      <td>...</td>\n",
       "      <td>...</td>\n",
       "      <td>...</td>\n",
       "      <td>...</td>\n",
       "      <td>...</td>\n",
       "      <td>...</td>\n",
       "      <td>...</td>\n",
       "    </tr>\n",
       "    <tr>\n",
       "      <th>4829</th>\n",
       "      <td>1.000</td>\n",
       "      <td>0.636364</td>\n",
       "      <td>1.0</td>\n",
       "      <td>1.0</td>\n",
       "      <td>0.5</td>\n",
       "      <td>0.000000</td>\n",
       "      <td>0.921719</td>\n",
       "      <td>1.00</td>\n",
       "      <td>0.298054</td>\n",
       "      <td>1.0</td>\n",
       "      <td>0.0</td>\n",
       "      <td>0.694915</td>\n",
       "    </tr>\n",
       "    <tr>\n",
       "      <th>7291</th>\n",
       "      <td>0.375</td>\n",
       "      <td>0.575758</td>\n",
       "      <td>0.0</td>\n",
       "      <td>1.0</td>\n",
       "      <td>0.5</td>\n",
       "      <td>0.000000</td>\n",
       "      <td>0.638142</td>\n",
       "      <td>1.00</td>\n",
       "      <td>0.649998</td>\n",
       "      <td>0.0</td>\n",
       "      <td>0.0</td>\n",
       "      <td>0.203390</td>\n",
       "    </tr>\n",
       "    <tr>\n",
       "      <th>1344</th>\n",
       "      <td>0.625</td>\n",
       "      <td>0.636364</td>\n",
       "      <td>0.0</td>\n",
       "      <td>1.0</td>\n",
       "      <td>0.0</td>\n",
       "      <td>0.000000</td>\n",
       "      <td>0.557370</td>\n",
       "      <td>0.50</td>\n",
       "      <td>0.394548</td>\n",
       "      <td>1.0</td>\n",
       "      <td>0.0</td>\n",
       "      <td>0.305085</td>\n",
       "    </tr>\n",
       "    <tr>\n",
       "      <th>7293</th>\n",
       "      <td>0.375</td>\n",
       "      <td>0.636364</td>\n",
       "      <td>0.0</td>\n",
       "      <td>0.0</td>\n",
       "      <td>0.0</td>\n",
       "      <td>0.222222</td>\n",
       "      <td>0.527042</td>\n",
       "      <td>0.50</td>\n",
       "      <td>0.000000</td>\n",
       "      <td>0.0</td>\n",
       "      <td>0.0</td>\n",
       "      <td>0.152542</td>\n",
       "    </tr>\n",
       "    <tr>\n",
       "      <th>1289</th>\n",
       "      <td>0.625</td>\n",
       "      <td>0.575758</td>\n",
       "      <td>1.0</td>\n",
       "      <td>1.0</td>\n",
       "      <td>0.0</td>\n",
       "      <td>0.111111</td>\n",
       "      <td>0.638142</td>\n",
       "      <td>1.00</td>\n",
       "      <td>0.649998</td>\n",
       "      <td>1.0</td>\n",
       "      <td>0.0</td>\n",
       "      <td>0.830508</td>\n",
       "    </tr>\n",
       "  </tbody>\n",
       "</table>\n",
       "<p>6535 rows × 12 columns</p>\n",
       "</div>"
      ],
      "text/plain": [
       "      department    region  education  gender  recruitment_channel  \\\n",
       "6333       0.625  0.636364        0.0     0.0                  0.0   \n",
       "2078       0.125  0.636364        0.0     0.0                  0.0   \n",
       "720        0.375  0.636364        1.0     0.0                  0.0   \n",
       "5753       0.625  0.878788        0.0     0.0                  0.5   \n",
       "6870       0.875  0.151515        0.0     0.0                  0.5   \n",
       "...          ...       ...        ...     ...                  ...   \n",
       "4829       1.000  0.636364        1.0     1.0                  0.5   \n",
       "7291       0.375  0.575758        0.0     1.0                  0.5   \n",
       "1344       0.625  0.636364        0.0     1.0                  0.0   \n",
       "7293       0.375  0.636364        0.0     0.0                  0.0   \n",
       "1289       0.625  0.575758        1.0     1.0                  0.0   \n",
       "\n",
       "      no_of_trainings       age  previous_year_rating  length_of_service  \\\n",
       "6333         0.000000  0.341281                  0.50           0.000000   \n",
       "2078         0.000000  0.494734                  0.75           0.394548   \n",
       "720          0.000000  0.726804                  0.50           0.695983   \n",
       "5753         0.000000  0.383801                  0.75           0.298054   \n",
       "6870         0.000000  0.423357                  0.00           0.298054   \n",
       "...               ...       ...                   ...                ...   \n",
       "4829         0.000000  0.921719                  1.00           0.298054   \n",
       "7291         0.000000  0.638142                  1.00           0.649998   \n",
       "1344         0.000000  0.557370                  0.50           0.394548   \n",
       "7293         0.222222  0.527042                  0.50           0.000000   \n",
       "1289         0.111111  0.638142                  1.00           0.649998   \n",
       "\n",
       "      KPIs_met >80%  awards_won?  avg_training_score  \n",
       "6333            1.0          0.0            0.372881  \n",
       "2078            1.0          0.0            0.338983  \n",
       "720             0.0          0.0            0.372881  \n",
       "5753            1.0          0.0            0.355932  \n",
       "6870            0.0          0.0            0.661017  \n",
       "...             ...          ...                 ...  \n",
       "4829            1.0          0.0            0.694915  \n",
       "7291            0.0          0.0            0.203390  \n",
       "1344            1.0          0.0            0.305085  \n",
       "7293            0.0          0.0            0.152542  \n",
       "1289            1.0          0.0            0.830508  \n",
       "\n",
       "[6535 rows x 12 columns]"
      ]
     },
     "execution_count": 34,
     "metadata": {},
     "output_type": "execute_result"
    }
   ],
   "source": [
    "hr_X_train"
   ]
  },
  {
   "cell_type": "code",
   "execution_count": 35,
   "metadata": {},
   "outputs": [
    {
     "data": {
      "text/plain": [
       "6333    0.0\n",
       "2078    1.0\n",
       "720     1.0\n",
       "5753    0.0\n",
       "6870    0.0\n",
       "       ... \n",
       "4829    0.0\n",
       "7291    0.0\n",
       "1344    1.0\n",
       "7293    0.0\n",
       "1289    1.0\n",
       "Name: is_promoted, Length: 6535, dtype: float64"
      ]
     },
     "execution_count": 35,
     "metadata": {},
     "output_type": "execute_result"
    }
   ],
   "source": [
    "hr_y_train"
   ]
  },
  {
   "cell_type": "markdown",
   "metadata": {},
   "source": [
    "### 1.2.2 Logistic Reggresion (Base Model)"
   ]
  },
  {
   "cell_type": "code",
   "execution_count": 36,
   "metadata": {},
   "outputs": [
    {
     "data": {
      "text/plain": [
       "LogisticRegression(max_iter=10000)"
      ]
     },
     "execution_count": 36,
     "metadata": {},
     "output_type": "execute_result"
    }
   ],
   "source": [
    "# Create the model for logistic regression\n",
    "hr_logReg = LogisticRegression(solver='lbfgs', max_iter=10000) \n",
    "\n",
    "# Fit the model to the training set\n",
    "hr_logReg.fit(hr_X_train,hr_y_train)"
   ]
  },
  {
   "cell_type": "markdown",
   "metadata": {},
   "source": [
    "### 1.2.3 XGBoostClassifier  (ensemble Learning) "
   ]
  },
  {
   "cell_type": "code",
   "execution_count": 37,
   "metadata": {},
   "outputs": [
    {
     "name": "stdout",
     "output_type": "stream",
     "text": [
      "[18:36:26] WARNING: ..\\src\\learner.cc:1115: Starting in XGBoost 1.3.0, the default evaluation metric used with the objective 'binary:logistic' was changed from 'error' to 'logloss'. Explicitly set eval_metric if you'd like to restore the old behavior.\n"
     ]
    },
    {
     "data": {
      "text/plain": [
       "XGBClassifier(base_score=0.5, booster='gbtree', colsample_bylevel=1,\n",
       "              colsample_bynode=1, colsample_bytree=1, enable_categorical=False,\n",
       "              gamma=0, gpu_id=-1, importance_type=None,\n",
       "              interaction_constraints='', learning_rate=0.300000012,\n",
       "              max_delta_step=0, max_depth=6, min_child_weight=1, missing=nan,\n",
       "              monotone_constraints='()', n_estimators=100, n_jobs=12,\n",
       "              num_parallel_tree=1, predictor='auto', random_state=0,\n",
       "              reg_alpha=0, reg_lambda=1, scale_pos_weight=1, subsample=1,\n",
       "              tree_method='exact', use_label_encoder=False,\n",
       "              validate_parameters=1, verbosity=None)"
      ]
     },
     "execution_count": 37,
     "metadata": {},
     "output_type": "execute_result"
    }
   ],
   "source": [
    "# Build XGBoost Model \n",
    "hr_XGB = XGBClassifier(use_label_encoder=False)\n",
    "hr_XGB.fit(hr_X_train,hr_y_train)"
   ]
  },
  {
   "cell_type": "markdown",
   "metadata": {},
   "source": [
    "### 1.2.4 Support Vector Machine (Classifier) "
   ]
  },
  {
   "cell_type": "code",
   "execution_count": 38,
   "metadata": {},
   "outputs": [
    {
     "data": {
      "text/plain": [
       "SVC(C=1, kernel='linear')"
      ]
     },
     "execution_count": 38,
     "metadata": {},
     "output_type": "execute_result"
    }
   ],
   "source": [
    "# Build SVM Model \n",
    "hr_SVC = SVC(kernel='linear', C=1)\n",
    "hr_SVC.fit(hr_X_train,hr_y_train)"
   ]
  },
  {
   "cell_type": "markdown",
   "metadata": {},
   "source": [
    "## 1.3 Evaluate and Improve the Model(s)"
   ]
  },
  {
   "cell_type": "markdown",
   "metadata": {},
   "source": [
    "### 1.3.1 Logistic Reggression"
   ]
  },
  {
   "cell_type": "markdown",
   "metadata": {},
   "source": [
    "#### Evaluation"
   ]
  },
  {
   "cell_type": "code",
   "execution_count": 39,
   "metadata": {},
   "outputs": [],
   "source": [
    "# Calculated the fitted values for training set\n",
    "hr_y_fitted = hr_logReg.predict(hr_X_train) # returns 0 or 1\n",
    "hr_y_fitted_prob = hr_logReg.predict_proba(hr_X_train)[:,0] # returns probabilities"
   ]
  },
  {
   "cell_type": "code",
   "execution_count": 40,
   "metadata": {},
   "outputs": [
    {
     "name": "stdout",
     "output_type": "stream",
     "text": [
      "[1. 1. 0. ... 0. 0. 1.]\n",
      "[0.45591861 0.18757846 0.71408438 ... 0.54159133 0.91822407 0.05572201]\n"
     ]
    }
   ],
   "source": [
    "print(hr_y_fitted)\n",
    "print(hr_y_fitted_prob)"
   ]
  },
  {
   "cell_type": "code",
   "execution_count": 41,
   "metadata": {},
   "outputs": [
    {
     "name": "stdout",
     "output_type": "stream",
     "text": [
      "0.7282325937260903 (Train Accuracy)\n",
      "0.73545162441985 (Test Accuracy)\n"
     ]
    }
   ],
   "source": [
    "# calculated the training accuracy\n",
    "print(hr_logReg.score(hr_X_train, hr_y_train), '(Train Accuracy)')\n",
    "# calculated the testing accuracy\n",
    "print(hr_logReg.score(hr_X_test, hr_y_test), '(Test Accuracy)')"
   ]
  },
  {
   "cell_type": "markdown",
   "metadata": {},
   "source": [
    "#### Improvement"
   ]
  },
  {
   "cell_type": "code",
   "execution_count": 42,
   "metadata": {},
   "outputs": [
    {
     "name": "stdout",
     "output_type": "stream",
     "text": [
      "Optimization terminated successfully.\n",
      "         Current function value: 0.538034\n",
      "         Iterations 7\n"
     ]
    }
   ],
   "source": [
    "# Create another model hr_logReg_improv using statsmodel.api: the Logit method and fit function\n",
    "hr_logReg_improv = sm.Logit(hr_y_train, hr_X_train).fit()"
   ]
  },
  {
   "cell_type": "code",
   "execution_count": 43,
   "metadata": {},
   "outputs": [
    {
     "data": {
      "text/html": [
       "<table class=\"simpletable\">\n",
       "<caption>Logit Regression Results</caption>\n",
       "<tr>\n",
       "  <th>Dep. Variable:</th>      <td>is_promoted</td>   <th>  No. Observations:  </th>  <td>  6535</td> \n",
       "</tr>\n",
       "<tr>\n",
       "  <th>Model:</th>                 <td>Logit</td>      <th>  Df Residuals:      </th>  <td>  6523</td> \n",
       "</tr>\n",
       "<tr>\n",
       "  <th>Method:</th>                 <td>MLE</td>       <th>  Df Model:          </th>  <td>    11</td> \n",
       "</tr>\n",
       "<tr>\n",
       "  <th>Date:</th>            <td>Sat, 11 Feb 2023</td> <th>  Pseudo R-squ.:     </th>  <td>0.2238</td> \n",
       "</tr>\n",
       "<tr>\n",
       "  <th>Time:</th>                <td>18:36:27</td>     <th>  Log-Likelihood:    </th> <td> -3516.0</td>\n",
       "</tr>\n",
       "<tr>\n",
       "  <th>converged:</th>             <td>True</td>       <th>  LL-Null:           </th> <td> -4529.6</td>\n",
       "</tr>\n",
       "<tr>\n",
       "  <th>Covariance Type:</th>     <td>nonrobust</td>    <th>  LLR p-value:       </th>  <td> 0.000</td> \n",
       "</tr>\n",
       "</table>\n",
       "<table class=\"simpletable\">\n",
       "<tr>\n",
       "            <td></td>              <th>coef</th>     <th>std err</th>      <th>z</th>      <th>P>|z|</th>  <th>[0.025</th>    <th>0.975]</th>  \n",
       "</tr>\n",
       "<tr>\n",
       "  <th>department</th>           <td>   -3.1040</td> <td>    0.188</td> <td>  -16.488</td> <td> 0.000</td> <td>   -3.473</td> <td>   -2.735</td>\n",
       "</tr>\n",
       "<tr>\n",
       "  <th>region</th>               <td>   -0.0264</td> <td>    0.117</td> <td>   -0.226</td> <td> 0.821</td> <td>   -0.255</td> <td>    0.203</td>\n",
       "</tr>\n",
       "<tr>\n",
       "  <th>education</th>            <td>    0.4119</td> <td>    0.069</td> <td>    5.933</td> <td> 0.000</td> <td>    0.276</td> <td>    0.548</td>\n",
       "</tr>\n",
       "<tr>\n",
       "  <th>gender</th>               <td>   -0.1139</td> <td>    0.063</td> <td>   -1.815</td> <td> 0.070</td> <td>   -0.237</td> <td>    0.009</td>\n",
       "</tr>\n",
       "<tr>\n",
       "  <th>recruitment_channel</th>  <td>   -0.3239</td> <td>    0.105</td> <td>   -3.079</td> <td> 0.002</td> <td>   -0.530</td> <td>   -0.118</td>\n",
       "</tr>\n",
       "<tr>\n",
       "  <th>no_of_trainings</th>      <td>   -2.2554</td> <td>    0.492</td> <td>   -4.580</td> <td> 0.000</td> <td>   -3.220</td> <td>   -1.290</td>\n",
       "</tr>\n",
       "<tr>\n",
       "  <th>age</th>                  <td>   -2.9238</td> <td>    0.202</td> <td>  -14.500</td> <td> 0.000</td> <td>   -3.319</td> <td>   -2.529</td>\n",
       "</tr>\n",
       "<tr>\n",
       "  <th>previous_year_rating</th> <td>    0.6883</td> <td>    0.100</td> <td>    6.875</td> <td> 0.000</td> <td>    0.492</td> <td>    0.884</td>\n",
       "</tr>\n",
       "<tr>\n",
       "  <th>length_of_service</th>    <td>    0.6731</td> <td>    0.157</td> <td>    4.281</td> <td> 0.000</td> <td>    0.365</td> <td>    0.981</td>\n",
       "</tr>\n",
       "<tr>\n",
       "  <th>KPIs_met >80%</th>        <td>    1.7053</td> <td>    0.064</td> <td>   26.815</td> <td> 0.000</td> <td>    1.581</td> <td>    1.830</td>\n",
       "</tr>\n",
       "<tr>\n",
       "  <th>awards_won?</th>          <td>    1.9229</td> <td>    0.180</td> <td>   10.676</td> <td> 0.000</td> <td>    1.570</td> <td>    2.276</td>\n",
       "</tr>\n",
       "<tr>\n",
       "  <th>avg_training_score</th>   <td>    4.5615</td> <td>    0.220</td> <td>   20.719</td> <td> 0.000</td> <td>    4.130</td> <td>    4.993</td>\n",
       "</tr>\n",
       "</table>"
      ],
      "text/plain": [
       "<class 'statsmodels.iolib.summary.Summary'>\n",
       "\"\"\"\n",
       "                           Logit Regression Results                           \n",
       "==============================================================================\n",
       "Dep. Variable:            is_promoted   No. Observations:                 6535\n",
       "Model:                          Logit   Df Residuals:                     6523\n",
       "Method:                           MLE   Df Model:                           11\n",
       "Date:                Sat, 11 Feb 2023   Pseudo R-squ.:                  0.2238\n",
       "Time:                        18:36:27   Log-Likelihood:                -3516.0\n",
       "converged:                       True   LL-Null:                       -4529.6\n",
       "Covariance Type:            nonrobust   LLR p-value:                     0.000\n",
       "========================================================================================\n",
       "                           coef    std err          z      P>|z|      [0.025      0.975]\n",
       "----------------------------------------------------------------------------------------\n",
       "department              -3.1040      0.188    -16.488      0.000      -3.473      -2.735\n",
       "region                  -0.0264      0.117     -0.226      0.821      -0.255       0.203\n",
       "education                0.4119      0.069      5.933      0.000       0.276       0.548\n",
       "gender                  -0.1139      0.063     -1.815      0.070      -0.237       0.009\n",
       "recruitment_channel     -0.3239      0.105     -3.079      0.002      -0.530      -0.118\n",
       "no_of_trainings         -2.2554      0.492     -4.580      0.000      -3.220      -1.290\n",
       "age                     -2.9238      0.202    -14.500      0.000      -3.319      -2.529\n",
       "previous_year_rating     0.6883      0.100      6.875      0.000       0.492       0.884\n",
       "length_of_service        0.6731      0.157      4.281      0.000       0.365       0.981\n",
       "KPIs_met >80%            1.7053      0.064     26.815      0.000       1.581       1.830\n",
       "awards_won?              1.9229      0.180     10.676      0.000       1.570       2.276\n",
       "avg_training_score       4.5615      0.220     20.719      0.000       4.130       4.993\n",
       "========================================================================================\n",
       "\"\"\""
      ]
     },
     "execution_count": 43,
     "metadata": {},
     "output_type": "execute_result"
    }
   ],
   "source": [
    "# Print out the Model Summary\n",
    "hr_logReg_improv.summary()"
   ]
  },
  {
   "cell_type": "markdown",
   "metadata": {},
   "source": [
    "From the above model summary, we can see that only, `region` has very high **p-value**. This means we have very low confidence on the coefficients of this feature and it may not be the good indicators to predict `is_promoted`. "
   ]
  },
  {
   "cell_type": "markdown",
   "metadata": {},
   "source": [
    "We will utilize the **p-value** obtained from the summary above and drop variables with high **p-value** scores. The model will be recreated with the new inputs to improve the model performance"
   ]
  },
  {
   "cell_type": "code",
   "execution_count": 44,
   "metadata": {},
   "outputs": [],
   "source": [
    "hr_X_train_logreg_improved = hr_X_train.drop(columns='region')\n",
    "hr_X_test_logreg_improved = hr_X_test.drop(columns='region')"
   ]
  },
  {
   "cell_type": "markdown",
   "metadata": {},
   "source": [
    "#### Using GridSearch for best hyper params"
   ]
  },
  {
   "cell_type": "code",
   "execution_count": 45,
   "metadata": {},
   "outputs": [
    {
     "name": "stdout",
     "output_type": "stream",
     "text": [
      "{'C': 0.1, 'penalty': 'l2', 'solver': 'liblinear'}\n"
     ]
    },
    {
     "name": "stderr",
     "output_type": "stream",
     "text": [
      "c:\\ProgramData\\Anaconda3\\lib\\site-packages\\sklearn\\model_selection\\_search.py:922: UserWarning: One or more of the test scores are non-finite: [       nan        nan 0.72425128 0.72578408 0.72578408 0.7273136\n",
      "        nan        nan 0.72379373 0.72440512 0.72440512 0.72425198\n",
      "        nan        nan 0.72394758 0.72410048 0.72410048 0.72455967]\n",
      "  warnings.warn(\n"
     ]
    }
   ],
   "source": [
    "hr_logReg_improved = LogisticRegression()\n",
    "param_grid = {\"penalty\": [\"l1\", \"l2\"],\n",
    "                \"C\" : [0.1, 1, 10],\n",
    "                \"solver\" : [\"newton-cg\", \"lbfgs\", \"liblinear\"]}\n",
    "\n",
    "hr_gs_log_reg =GridSearchCV(hr_logReg_improved, \n",
    "                            param_grid = param_grid, \n",
    "                            scoring = \"accuracy\", \n",
    "                            cv = 10, n_jobs = -1)\n",
    "\n",
    "hr_gs_log_reg = hr_gs_log_reg.fit(hr_X_train_logreg_improved, hr_y_train)\n",
    "\n",
    "print(hr_gs_log_reg.best_params_)"
   ]
  },
  {
   "cell_type": "markdown",
   "metadata": {},
   "source": [
    "#### Rebuilding Improved Logistic Regression Model"
   ]
  },
  {
   "cell_type": "code",
   "execution_count": 46,
   "metadata": {},
   "outputs": [
    {
     "data": {
      "text/plain": [
       "LogisticRegression(C=0.1, solver='liblinear')"
      ]
     },
     "execution_count": 46,
     "metadata": {},
     "output_type": "execute_result"
    }
   ],
   "source": [
    "hr_logReg_improved = LogisticRegression(**hr_gs_log_reg.best_params_) \n",
    "\n",
    "hr_logReg_improved.fit(hr_X_train_logreg_improved,hr_y_train)"
   ]
  },
  {
   "cell_type": "markdown",
   "metadata": {},
   "source": [
    "#### Evaluating and Comparing Improved Model"
   ]
  },
  {
   "cell_type": "code",
   "execution_count": 47,
   "metadata": {},
   "outputs": [
    {
     "name": "stdout",
     "output_type": "stream",
     "text": [
      "Train Accuracy (Improved): \t 0.7289977046671767\n",
      "Train Accuracy (Unimproved): \t 0.7282325937260903\n"
     ]
    }
   ],
   "source": [
    "# calculated the training accuracy\n",
    "print(\"Train Accuracy (Improved): \\t\",hr_logReg_improved.score(hr_X_train_logreg_improved, hr_y_train))\n",
    "print(\"Train Accuracy (Unimproved): \\t\",hr_logReg.score(hr_X_train, hr_y_train))"
   ]
  },
  {
   "cell_type": "code",
   "execution_count": 48,
   "metadata": {},
   "outputs": [
    {
     "name": "stdout",
     "output_type": "stream",
     "text": [
      "Test Accuracy (Improved): \t 0.7197429489468047\n",
      "Test Accuracy (Unimproved): \t 0.73545162441985\n"
     ]
    }
   ],
   "source": [
    "# calculated the testing accuracy\n",
    "print(\"Test Accuracy (Improved): \\t\",hr_logReg_improved.score(hr_X_test_logreg_improved, hr_y_test))\n",
    "print(\"Test Accuracy (Unimproved): \\t\",hr_logReg.score(hr_X_test, hr_y_test))"
   ]
  },
  {
   "cell_type": "markdown",
   "metadata": {},
   "source": [
    "### 1.3.2 XGBoostClassifier  (ensemble Learning) "
   ]
  },
  {
   "cell_type": "markdown",
   "metadata": {},
   "source": [
    "#### Evaluatation"
   ]
  },
  {
   "cell_type": "code",
   "execution_count": 49,
   "metadata": {},
   "outputs": [
    {
     "name": "stdout",
     "output_type": "stream",
     "text": [
      "training accuracy is:  0.9349655700076511\n",
      "testing accuracy is:  0.8054266333452339\n"
     ]
    }
   ],
   "source": [
    "# Evaluate both training and testing accuracy \n",
    "print('training accuracy is: ', hr_XGB.score(hr_X_train,hr_y_train))\n",
    "print('testing accuracy is: ', hr_XGB.score(hr_X_test,hr_y_test))"
   ]
  },
  {
   "cell_type": "markdown",
   "metadata": {},
   "source": [
    "#### Improvement (GridSearch)"
   ]
  },
  {
   "cell_type": "code",
   "execution_count": 50,
   "metadata": {},
   "outputs": [
    {
     "name": "stdout",
     "output_type": "stream",
     "text": [
      "[18:36:39] WARNING: ..\\src\\learner.cc:1115: Starting in XGBoost 1.3.0, the default evaluation metric used with the objective 'binary:logistic' was changed from 'error' to 'logloss'. Explicitly set eval_metric if you'd like to restore the old behavior.\n",
      "{'learning_rate': 0.2, 'max_depth': 3, 'n_estimators': 100}\n"
     ]
    }
   ],
   "source": [
    "hr_XGB_improved = XGBClassifier(use_label_encoder=False)\n",
    "\n",
    "param_grid = {\n",
    "    'max_depth': [2, 3, 4], \n",
    "    'learning_rate': [0.1, 0.2, 0.3],\n",
    "    'n_estimators': [50, 100, 200],\n",
    "}\n",
    "\n",
    "hr_gs_XGB = GridSearchCV(hr_XGB_improved, param_grid, cv=5, n_jobs=-1)\n",
    "\n",
    "hr_gs_XGB.fit(hr_X_train, hr_y_train)\n",
    "\n",
    "print(hr_gs_XGB.best_params_)"
   ]
  },
  {
   "cell_type": "code",
   "execution_count": 51,
   "metadata": {},
   "outputs": [
    {
     "name": "stdout",
     "output_type": "stream",
     "text": [
      "[18:36:40] WARNING: ..\\src\\learner.cc:1115: Starting in XGBoost 1.3.0, the default evaluation metric used with the objective 'binary:logistic' was changed from 'error' to 'logloss'. Explicitly set eval_metric if you'd like to restore the old behavior.\n"
     ]
    },
    {
     "data": {
      "text/plain": [
       "XGBClassifier(base_score=0.5, booster='gbtree', colsample_bylevel=1,\n",
       "              colsample_bynode=1, colsample_bytree=1, enable_categorical=False,\n",
       "              gamma=0, gpu_id=-1, importance_type=None,\n",
       "              interaction_constraints='', learning_rate=0.2, max_delta_step=0,\n",
       "              max_depth=3, min_child_weight=1, missing=nan,\n",
       "              monotone_constraints='()', n_estimators=100, n_jobs=12,\n",
       "              num_parallel_tree=1, predictor='auto', random_state=0,\n",
       "              reg_alpha=0, reg_lambda=1, scale_pos_weight=1, subsample=1,\n",
       "              tree_method='exact', use_label_encoder=False,\n",
       "              validate_parameters=1, verbosity=None)"
      ]
     },
     "execution_count": 51,
     "metadata": {},
     "output_type": "execute_result"
    }
   ],
   "source": [
    "# Build XGBoost Model \n",
    "hr_XGB_improved = XGBClassifier(**hr_gs_XGB.best_params_, use_label_encoder=False)\n",
    "hr_XGB_improved.fit(hr_X_train,hr_y_train)"
   ]
  },
  {
   "cell_type": "code",
   "execution_count": 52,
   "metadata": {},
   "outputs": [
    {
     "name": "stdout",
     "output_type": "stream",
     "text": [
      "Train Accuracy (Improved): \t 0.841469013006886\n",
      "Train Accuracy (Unimproved): \t 0.9349655700076511\n"
     ]
    }
   ],
   "source": [
    "# calculated the training accuracy\n",
    "print(\"Train Accuracy (Improved): \\t\",hr_XGB_improved.score(hr_X_train, hr_y_train))\n",
    "print(\"Train Accuracy (Unimproved): \\t\",hr_XGB.score(hr_X_train, hr_y_train))"
   ]
  },
  {
   "cell_type": "code",
   "execution_count": 53,
   "metadata": {},
   "outputs": [
    {
     "name": "stdout",
     "output_type": "stream",
     "text": [
      "Test Accuracy (Improved): \t 0.8214923241699393\n",
      "Test Accuracy (Unimproved): \t 0.8054266333452339\n"
     ]
    }
   ],
   "source": [
    "# calculated the testing accuracy\n",
    "print(\"Test Accuracy (Improved): \\t\",hr_XGB_improved.score(hr_X_test, hr_y_test))\n",
    "print(\"Test Accuracy (Unimproved): \\t\",hr_XGB.score(hr_X_test, hr_y_test))"
   ]
  },
  {
   "cell_type": "markdown",
   "metadata": {},
   "source": [
    "### 1.3.3 Support Vector Machine (Classifier) "
   ]
  },
  {
   "cell_type": "markdown",
   "metadata": {},
   "source": [
    "#### Evaulation"
   ]
  },
  {
   "cell_type": "code",
   "execution_count": 54,
   "metadata": {},
   "outputs": [
    {
     "name": "stdout",
     "output_type": "stream",
     "text": [
      "training accuracy is:  0.7230298393267024\n",
      "testing accuracy is:  0.7122456265619421\n"
     ]
    }
   ],
   "source": [
    "# Evaluate both training and testing accuracy \n",
    "print('training accuracy is: ', hr_SVC.score(hr_X_train,hr_y_train))\n",
    "print('testing accuracy is: ', hr_SVC.score(hr_X_test,hr_y_test))"
   ]
  },
  {
   "cell_type": "markdown",
   "metadata": {},
   "source": [
    "#### Improvement"
   ]
  },
  {
   "cell_type": "code",
   "execution_count": 55,
   "metadata": {},
   "outputs": [
    {
     "name": "stdout",
     "output_type": "stream",
     "text": [
      "{'C': 10, 'decision_function_shape': 'ovr', 'degree': 2, 'kernel': 'rbf', 'probability': True}\n"
     ]
    }
   ],
   "source": [
    "hr_SVC_improved = SVC()\n",
    "\n",
    "param_grid = {\n",
    "'C': [0.1, 1, 10],\n",
    "'kernel': ['linear', 'rbf', 'poly'],\n",
    "'degree': [2, 3, 4],\n",
    "'probability': [True],\n",
    "'decision_function_shape': ['ovr']\n",
    "}\n",
    "\n",
    "hr_SVC_gs = GridSearchCV(hr_SVC_improved, param_grid, cv=5, n_jobs=-1)\n",
    "\n",
    "hr_SVC_gs.fit(hr_X_train, hr_y_train)\n",
    "\n",
    "print(hr_SVC_gs.best_params_)"
   ]
  },
  {
   "cell_type": "code",
   "execution_count": 56,
   "metadata": {},
   "outputs": [
    {
     "data": {
      "text/plain": [
       "SVC(C=10, degree=2, probability=True)"
      ]
     },
     "execution_count": 56,
     "metadata": {},
     "output_type": "execute_result"
    }
   ],
   "source": [
    "# Build SVC Model \n",
    "hr_SVC_improved = SVC(**hr_SVC_gs.best_params_)\n",
    "hr_SVC_improved.fit(hr_X_train,hr_y_train)"
   ]
  },
  {
   "cell_type": "code",
   "execution_count": 57,
   "metadata": {},
   "outputs": [
    {
     "name": "stdout",
     "output_type": "stream",
     "text": [
      "Train Accuracy (Improved): \t 0.8113236419280796\n",
      "Train Accuracy (Unimproved): \t 0.7230298393267024\n"
     ]
    }
   ],
   "source": [
    "# calculated the training accuracy\n",
    "print(\"Train Accuracy (Improved): \\t\",hr_SVC_improved.score(hr_X_train, hr_y_train))\n",
    "print(\"Train Accuracy (Unimproved): \\t\",hr_SVC.score(hr_X_train, hr_y_train))"
   ]
  },
  {
   "cell_type": "code",
   "execution_count": 58,
   "metadata": {},
   "outputs": [
    {
     "name": "stdout",
     "output_type": "stream",
     "text": [
      "Test Accuracy (Improved): \t 0.7875758657622278\n",
      "Test Accuracy (Unimproved): \t 0.7122456265619421\n"
     ]
    }
   ],
   "source": [
    "# calculated the testing accuracy\n",
    "print(\"Test Accuracy (Improved): \\t\",hr_SVC_improved.score(hr_X_test, hr_y_test))\n",
    "print(\"Test Accuracy (Unimproved): \\t\",hr_SVC.score(hr_X_test, hr_y_test))"
   ]
  },
  {
   "cell_type": "markdown",
   "metadata": {},
   "source": [
    "### 1.3.4 VotingClassifier "
   ]
  },
  {
   "cell_type": "markdown",
   "metadata": {},
   "source": [
    "#### Define Classifiers"
   ]
  },
  {
   "cell_type": "code",
   "execution_count": 59,
   "metadata": {},
   "outputs": [],
   "source": [
    "# create list of classifiers\n",
    "classifier = [hr_logReg_improved,hr_XGB_improved,hr_SVC_improved]"
   ]
  },
  {
   "cell_type": "markdown",
   "metadata": {},
   "source": [
    "#### Build and Fit VotingClassifier"
   ]
  },
  {
   "cell_type": "code",
   "execution_count": 60,
   "metadata": {},
   "outputs": [
    {
     "name": "stdout",
     "output_type": "stream",
     "text": [
      "[18:38:26] WARNING: ..\\src\\learner.cc:1115: Starting in XGBoost 1.3.0, the default evaluation metric used with the objective 'binary:logistic' was changed from 'error' to 'logloss'. Explicitly set eval_metric if you'd like to restore the old behavior.\n"
     ]
    },
    {
     "data": {
      "text/plain": [
       "VotingClassifier(estimators=[('hr_logReg_improved',\n",
       "                              LogisticRegression(C=0.1, solver='liblinear')),\n",
       "                             ('hr_XGB_improved',\n",
       "                              XGBClassifier(base_score=0.5, booster='gbtree',\n",
       "                                            colsample_bylevel=1,\n",
       "                                            colsample_bynode=1,\n",
       "                                            colsample_bytree=1,\n",
       "                                            enable_categorical=False, gamma=0,\n",
       "                                            gpu_id=-1, importance_type=None,\n",
       "                                            interaction_constraints='',\n",
       "                                            learning_rate=0.2, max_delta_step=0,\n",
       "                                            max_...,\n",
       "                                            missing=nan,\n",
       "                                            monotone_constraints='()',\n",
       "                                            n_estimators=100, n_jobs=12,\n",
       "                                            num_parallel_tree=1,\n",
       "                                            predictor='auto', random_state=0,\n",
       "                                            reg_alpha=0, reg_lambda=1,\n",
       "                                            scale_pos_weight=1, subsample=1,\n",
       "                                            tree_method='exact',\n",
       "                                            use_label_encoder=False,\n",
       "                                            validate_parameters=1,\n",
       "                                            verbosity=None)),\n",
       "                             ('hr_SVC_improved',\n",
       "                              SVC(C=10, degree=2, probability=True))],\n",
       "                 voting='soft', weights=[0.3, 0.8, 0.3])"
      ]
     },
     "execution_count": 60,
     "metadata": {},
     "output_type": "execute_result"
    }
   ],
   "source": [
    "# VotingClassifier with hard voting technique\n",
    "voting_clf = VotingClassifier(estimators=[('hr_logReg_improved', hr_logReg_improved), \n",
    "                                               ('hr_XGB_improved', hr_XGB_improved),\n",
    "                                               ('hr_SVC_improved', hr_SVC_improved)],\n",
    "                                   voting='soft',\n",
    "                                   weights = [0.30,0.80,0.30])\n",
    "\n",
    "# Let's train our voting classifier. It's an estimator object so we call fit on our training data. It is used to train the classifier\n",
    "# before it can be used to make predictions. This will train all of the individual classifiers in the ensemble\n",
    "\n",
    "voting_clf.fit(hr_X_train, hr_y_train)"
   ]
  },
  {
   "cell_type": "markdown",
   "metadata": {},
   "source": [
    "### 1.3.5 Results"
   ]
  },
  {
   "cell_type": "code",
   "execution_count": 61,
   "metadata": {},
   "outputs": [
    {
     "name": "stdout",
     "output_type": "stream",
     "text": [
      "LogisticRegression Train Accuracy: \t 0.7320581484315226\n",
      "LogisticRegression Test Accuracy: \t 0.7286683327383078 \n",
      "\n",
      "[18:38:32] WARNING: ..\\src\\learner.cc:1115: Starting in XGBoost 1.3.0, the default evaluation metric used with the objective 'binary:logistic' was changed from 'error' to 'logloss'. Explicitly set eval_metric if you'd like to restore the old behavior.\n",
      "XGBClassifier Train Accuracy: \t 0.841469013006886\n",
      "XGBClassifier Test Accuracy: \t 0.8214923241699393 \n",
      "\n",
      "SVC Train Accuracy: \t 0.8113236419280796\n",
      "SVC Test Accuracy: \t 0.7875758657622278 \n",
      "\n",
      "[18:38:39] WARNING: ..\\src\\learner.cc:1115: Starting in XGBoost 1.3.0, the default evaluation metric used with the objective 'binary:logistic' was changed from 'error' to 'logloss'. Explicitly set eval_metric if you'd like to restore the old behavior.\n",
      "VotingClassifier Train Accuracy: \t 0.8299923488905891\n",
      "VotingClassifier Test Accuracy: \t 0.8164941092466976 \n",
      "\n"
     ]
    }
   ],
   "source": [
    "for clf in (hr_logReg_improved,hr_XGB_improved,hr_SVC_improved, voting_clf):\n",
    "    \n",
    "    clf.fit(hr_X_train, hr_y_train)\n",
    "\n",
    "    print(clf.__class__.__name__,\"Train Accuracy: \\t\",clf.score(hr_X_train, hr_y_train))\n",
    "    print(clf.__class__.__name__,\"Test Accuracy: \\t\",clf.score(hr_X_test, hr_y_test),'\\n')"
   ]
  },
  {
   "cell_type": "markdown",
   "metadata": {},
   "source": [
    "# 2. Airbnb"
   ]
  },
  {
   "cell_type": "markdown",
   "metadata": {},
   "source": [
    "## 2.1 Load and Sample the data"
   ]
  },
  {
   "cell_type": "markdown",
   "metadata": {},
   "source": [
    "### 2.1.1 Loading Data"
   ]
  },
  {
   "cell_type": "code",
   "execution_count": 62,
   "metadata": {},
   "outputs": [
    {
     "data": {
      "text/html": [
       "<div>\n",
       "<style scoped>\n",
       "    .dataframe tbody tr th:only-of-type {\n",
       "        vertical-align: middle;\n",
       "    }\n",
       "\n",
       "    .dataframe tbody tr th {\n",
       "        vertical-align: top;\n",
       "    }\n",
       "\n",
       "    .dataframe thead th {\n",
       "        text-align: right;\n",
       "    }\n",
       "</style>\n",
       "<table border=\"1\" class=\"dataframe\">\n",
       "  <thead>\n",
       "    <tr style=\"text-align: right;\">\n",
       "      <th></th>\n",
       "      <th>id</th>\n",
       "      <th>name</th>\n",
       "      <th>host_id</th>\n",
       "      <th>host_name</th>\n",
       "      <th>neighbourhood_group</th>\n",
       "      <th>neighbourhood</th>\n",
       "      <th>latitude</th>\n",
       "      <th>longitude</th>\n",
       "      <th>room_type</th>\n",
       "      <th>price</th>\n",
       "      <th>minimum_nights</th>\n",
       "      <th>number_of_reviews</th>\n",
       "      <th>last_review</th>\n",
       "      <th>reviews_per_month</th>\n",
       "      <th>calculated_host_listings_count</th>\n",
       "      <th>availability_365</th>\n",
       "    </tr>\n",
       "  </thead>\n",
       "  <tbody>\n",
       "    <tr>\n",
       "      <th>0</th>\n",
       "      <td>49091</td>\n",
       "      <td>COZICOMFORT LONG TERM STAY ROOM 2</td>\n",
       "      <td>266763</td>\n",
       "      <td>Francesca</td>\n",
       "      <td>North Region</td>\n",
       "      <td>Woodlands</td>\n",
       "      <td>1.44255</td>\n",
       "      <td>103.79580</td>\n",
       "      <td>Private room</td>\n",
       "      <td>83</td>\n",
       "      <td>180</td>\n",
       "      <td>1</td>\n",
       "      <td>2013-10-21</td>\n",
       "      <td>0.01</td>\n",
       "      <td>2</td>\n",
       "      <td>365</td>\n",
       "    </tr>\n",
       "    <tr>\n",
       "      <th>1</th>\n",
       "      <td>50646</td>\n",
       "      <td>Pleasant Room along Bukit Timah</td>\n",
       "      <td>227796</td>\n",
       "      <td>Sujatha</td>\n",
       "      <td>Central Region</td>\n",
       "      <td>Bukit Timah</td>\n",
       "      <td>1.33235</td>\n",
       "      <td>103.78521</td>\n",
       "      <td>Private room</td>\n",
       "      <td>81</td>\n",
       "      <td>90</td>\n",
       "      <td>18</td>\n",
       "      <td>2014-12-26</td>\n",
       "      <td>0.28</td>\n",
       "      <td>1</td>\n",
       "      <td>365</td>\n",
       "    </tr>\n",
       "    <tr>\n",
       "      <th>2</th>\n",
       "      <td>56334</td>\n",
       "      <td>COZICOMFORT</td>\n",
       "      <td>266763</td>\n",
       "      <td>Francesca</td>\n",
       "      <td>North Region</td>\n",
       "      <td>Woodlands</td>\n",
       "      <td>1.44246</td>\n",
       "      <td>103.79667</td>\n",
       "      <td>Private room</td>\n",
       "      <td>69</td>\n",
       "      <td>6</td>\n",
       "      <td>20</td>\n",
       "      <td>2015-10-01</td>\n",
       "      <td>0.20</td>\n",
       "      <td>2</td>\n",
       "      <td>365</td>\n",
       "    </tr>\n",
       "    <tr>\n",
       "      <th>3</th>\n",
       "      <td>71609</td>\n",
       "      <td>Ensuite Room (Room 1 &amp; 2) near EXPO</td>\n",
       "      <td>367042</td>\n",
       "      <td>Belinda</td>\n",
       "      <td>East Region</td>\n",
       "      <td>Tampines</td>\n",
       "      <td>1.34541</td>\n",
       "      <td>103.95712</td>\n",
       "      <td>Private room</td>\n",
       "      <td>206</td>\n",
       "      <td>1</td>\n",
       "      <td>14</td>\n",
       "      <td>2019-08-11</td>\n",
       "      <td>0.15</td>\n",
       "      <td>9</td>\n",
       "      <td>353</td>\n",
       "    </tr>\n",
       "    <tr>\n",
       "      <th>4</th>\n",
       "      <td>71896</td>\n",
       "      <td>B&amp;B  Room 1 near Airport &amp; EXPO</td>\n",
       "      <td>367042</td>\n",
       "      <td>Belinda</td>\n",
       "      <td>East Region</td>\n",
       "      <td>Tampines</td>\n",
       "      <td>1.34567</td>\n",
       "      <td>103.95963</td>\n",
       "      <td>Private room</td>\n",
       "      <td>94</td>\n",
       "      <td>1</td>\n",
       "      <td>22</td>\n",
       "      <td>2019-07-28</td>\n",
       "      <td>0.22</td>\n",
       "      <td>9</td>\n",
       "      <td>355</td>\n",
       "    </tr>\n",
       "    <tr>\n",
       "      <th>...</th>\n",
       "      <td>...</td>\n",
       "      <td>...</td>\n",
       "      <td>...</td>\n",
       "      <td>...</td>\n",
       "      <td>...</td>\n",
       "      <td>...</td>\n",
       "      <td>...</td>\n",
       "      <td>...</td>\n",
       "      <td>...</td>\n",
       "      <td>...</td>\n",
       "      <td>...</td>\n",
       "      <td>...</td>\n",
       "      <td>...</td>\n",
       "      <td>...</td>\n",
       "      <td>...</td>\n",
       "      <td>...</td>\n",
       "    </tr>\n",
       "    <tr>\n",
       "      <th>7902</th>\n",
       "      <td>38105126</td>\n",
       "      <td>Loft 2 pax near Haw Par / Pasir Panjang. Free ...</td>\n",
       "      <td>278109833</td>\n",
       "      <td>Belle</td>\n",
       "      <td>Central Region</td>\n",
       "      <td>Queenstown</td>\n",
       "      <td>1.27973</td>\n",
       "      <td>103.78751</td>\n",
       "      <td>Entire home/apt</td>\n",
       "      <td>100</td>\n",
       "      <td>3</td>\n",
       "      <td>0</td>\n",
       "      <td>NaN</td>\n",
       "      <td>NaN</td>\n",
       "      <td>31</td>\n",
       "      <td>61</td>\n",
       "    </tr>\n",
       "    <tr>\n",
       "      <th>7903</th>\n",
       "      <td>38108273</td>\n",
       "      <td>3bedroom luxury at Orchard</td>\n",
       "      <td>238891646</td>\n",
       "      <td>Neha</td>\n",
       "      <td>Central Region</td>\n",
       "      <td>Tanglin</td>\n",
       "      <td>1.29269</td>\n",
       "      <td>103.82623</td>\n",
       "      <td>Entire home/apt</td>\n",
       "      <td>550</td>\n",
       "      <td>6</td>\n",
       "      <td>0</td>\n",
       "      <td>NaN</td>\n",
       "      <td>NaN</td>\n",
       "      <td>34</td>\n",
       "      <td>365</td>\n",
       "    </tr>\n",
       "    <tr>\n",
       "      <th>7904</th>\n",
       "      <td>38109336</td>\n",
       "      <td>[ Farrer Park ] New City Fringe CBD Mins to MRT</td>\n",
       "      <td>281448565</td>\n",
       "      <td>Mindy</td>\n",
       "      <td>Central Region</td>\n",
       "      <td>Kallang</td>\n",
       "      <td>1.31286</td>\n",
       "      <td>103.85996</td>\n",
       "      <td>Private room</td>\n",
       "      <td>58</td>\n",
       "      <td>30</td>\n",
       "      <td>0</td>\n",
       "      <td>NaN</td>\n",
       "      <td>NaN</td>\n",
       "      <td>3</td>\n",
       "      <td>173</td>\n",
       "    </tr>\n",
       "    <tr>\n",
       "      <th>7905</th>\n",
       "      <td>38110493</td>\n",
       "      <td>Cheap Master Room in Central of Singapore</td>\n",
       "      <td>243835202</td>\n",
       "      <td>Huang</td>\n",
       "      <td>Central Region</td>\n",
       "      <td>River Valley</td>\n",
       "      <td>1.29543</td>\n",
       "      <td>103.83801</td>\n",
       "      <td>Private room</td>\n",
       "      <td>56</td>\n",
       "      <td>14</td>\n",
       "      <td>0</td>\n",
       "      <td>NaN</td>\n",
       "      <td>NaN</td>\n",
       "      <td>2</td>\n",
       "      <td>30</td>\n",
       "    </tr>\n",
       "    <tr>\n",
       "      <th>7906</th>\n",
       "      <td>38112762</td>\n",
       "      <td>Amazing room with private bathroom walk to Orc...</td>\n",
       "      <td>28788520</td>\n",
       "      <td>Terence</td>\n",
       "      <td>Central Region</td>\n",
       "      <td>River Valley</td>\n",
       "      <td>1.29672</td>\n",
       "      <td>103.83325</td>\n",
       "      <td>Private room</td>\n",
       "      <td>65</td>\n",
       "      <td>90</td>\n",
       "      <td>0</td>\n",
       "      <td>NaN</td>\n",
       "      <td>NaN</td>\n",
       "      <td>7</td>\n",
       "      <td>365</td>\n",
       "    </tr>\n",
       "  </tbody>\n",
       "</table>\n",
       "<p>7907 rows × 16 columns</p>\n",
       "</div>"
      ],
      "text/plain": [
       "            id                                               name    host_id  \\\n",
       "0        49091                  COZICOMFORT LONG TERM STAY ROOM 2     266763   \n",
       "1        50646                    Pleasant Room along Bukit Timah     227796   \n",
       "2        56334                                        COZICOMFORT     266763   \n",
       "3        71609                Ensuite Room (Room 1 & 2) near EXPO     367042   \n",
       "4        71896                    B&B  Room 1 near Airport & EXPO     367042   \n",
       "...        ...                                                ...        ...   \n",
       "7902  38105126  Loft 2 pax near Haw Par / Pasir Panjang. Free ...  278109833   \n",
       "7903  38108273                         3bedroom luxury at Orchard  238891646   \n",
       "7904  38109336    [ Farrer Park ] New City Fringe CBD Mins to MRT  281448565   \n",
       "7905  38110493          Cheap Master Room in Central of Singapore  243835202   \n",
       "7906  38112762  Amazing room with private bathroom walk to Orc...   28788520   \n",
       "\n",
       "      host_name neighbourhood_group neighbourhood  latitude  longitude  \\\n",
       "0     Francesca        North Region     Woodlands   1.44255  103.79580   \n",
       "1       Sujatha      Central Region   Bukit Timah   1.33235  103.78521   \n",
       "2     Francesca        North Region     Woodlands   1.44246  103.79667   \n",
       "3       Belinda         East Region      Tampines   1.34541  103.95712   \n",
       "4       Belinda         East Region      Tampines   1.34567  103.95963   \n",
       "...         ...                 ...           ...       ...        ...   \n",
       "7902      Belle      Central Region    Queenstown   1.27973  103.78751   \n",
       "7903       Neha      Central Region       Tanglin   1.29269  103.82623   \n",
       "7904      Mindy      Central Region       Kallang   1.31286  103.85996   \n",
       "7905      Huang      Central Region  River Valley   1.29543  103.83801   \n",
       "7906    Terence      Central Region  River Valley   1.29672  103.83325   \n",
       "\n",
       "            room_type  price  minimum_nights  number_of_reviews last_review  \\\n",
       "0        Private room     83             180                  1  2013-10-21   \n",
       "1        Private room     81              90                 18  2014-12-26   \n",
       "2        Private room     69               6                 20  2015-10-01   \n",
       "3        Private room    206               1                 14  2019-08-11   \n",
       "4        Private room     94               1                 22  2019-07-28   \n",
       "...               ...    ...             ...                ...         ...   \n",
       "7902  Entire home/apt    100               3                  0         NaN   \n",
       "7903  Entire home/apt    550               6                  0         NaN   \n",
       "7904     Private room     58              30                  0         NaN   \n",
       "7905     Private room     56              14                  0         NaN   \n",
       "7906     Private room     65              90                  0         NaN   \n",
       "\n",
       "      reviews_per_month  calculated_host_listings_count  availability_365  \n",
       "0                  0.01                               2               365  \n",
       "1                  0.28                               1               365  \n",
       "2                  0.20                               2               365  \n",
       "3                  0.15                               9               353  \n",
       "4                  0.22                               9               355  \n",
       "...                 ...                             ...               ...  \n",
       "7902                NaN                              31                61  \n",
       "7903                NaN                              34               365  \n",
       "7904                NaN                               3               173  \n",
       "7905                NaN                               2                30  \n",
       "7906                NaN                               7               365  \n",
       "\n",
       "[7907 rows x 16 columns]"
      ]
     },
     "execution_count": 62,
     "metadata": {},
     "output_type": "execute_result"
    }
   ],
   "source": [
    "# loading the hr_data from csv file\n",
    "listings_df_main = pd.read_csv('listings.csv')\n",
    "listings_df_main"
   ]
  },
  {
   "cell_type": "markdown",
   "metadata": {},
   "source": [
    "#### Drop Unnecessary Columns"
   ]
  },
  {
   "cell_type": "code",
   "execution_count": 63,
   "metadata": {},
   "outputs": [],
   "source": [
    "listings_df_main.drop(columns=['id','name','host_id','host_name','latitude','longitude'],inplace=True)"
   ]
  },
  {
   "cell_type": "markdown",
   "metadata": {},
   "source": [
    "### 2.1.2 Handling Missing Values"
   ]
  },
  {
   "cell_type": "code",
   "execution_count": 64,
   "metadata": {},
   "outputs": [
    {
     "data": {
      "text/plain": [
       "neighbourhood_group                  0\n",
       "neighbourhood                        0\n",
       "room_type                            0\n",
       "price                                0\n",
       "minimum_nights                       0\n",
       "number_of_reviews                    0\n",
       "last_review                       2758\n",
       "reviews_per_month                 2758\n",
       "calculated_host_listings_count       0\n",
       "availability_365                     0\n",
       "dtype: int64"
      ]
     },
     "execution_count": 64,
     "metadata": {},
     "output_type": "execute_result"
    }
   ],
   "source": [
    "listings_df_main.isnull().sum()"
   ]
  },
  {
   "cell_type": "code",
   "execution_count": 65,
   "metadata": {},
   "outputs": [
    {
     "data": {
      "image/png": "[encoded data removed]",
      "text/plain": [
       "<Figure size 1080x1080 with 2 Axes>"
      ]
     },
     "metadata": {
      "needs_background": "light"
     },
     "output_type": "display_data"
    }
   ],
   "source": [
    "colormap = plt.cm.viridis\n",
    "plt.figure(figsize=(15,15))\n",
    "plt.title('Pearson Correlation of Features', size=15)\n",
    "ax = sns.heatmap(listings_df_main[['number_of_reviews','reviews_per_month']].corr(), cmap=colormap, annot=True)\n",
    "bottom, top = ax.get_ylim()\n",
    "ax.set_ylim(bottom + 0.5, top - 0.5)\n",
    "plt.show()"
   ]
  },
  {
   "cell_type": "code",
   "execution_count": 66,
   "metadata": {},
   "outputs": [
    {
     "data": {
      "text/plain": [
       "0    2758\n",
       "Name: number_of_reviews, dtype: int64"
      ]
     },
     "execution_count": 66,
     "metadata": {},
     "output_type": "execute_result"
    }
   ],
   "source": [
    "listings_df_main[listings_df_main['reviews_per_month'].isnull()]['number_of_reviews'].value_counts()"
   ]
  },
  {
   "cell_type": "markdown",
   "metadata": {},
   "source": [
    "Since last_review is a date type variable, we cannot simply replace it with a 0. However, all this variable shows is the last time since a listing has a review, and there hasnt been a reivew, there is not much that can be gained from this variable. This is because the information that last_review has been compressed into reviews_per_month. \n",
    "\n",
    "By extension, the same is true for reviews_per_month, where all nulls found in reviews_per_month have a non-null number_of_reviews. This means all the data that can be gained from reviews_per_month is already present in number_of_reviews, as can be seen from the correlation chart.\n",
    "\n",
    "Thus, we will drop the variable"
   ]
  },
  {
   "cell_type": "code",
   "execution_count": 67,
   "metadata": {},
   "outputs": [],
   "source": [
    "listings_df_main = listings_df_main.drop(columns=['last_review','reviews_per_month'])"
   ]
  },
  {
   "cell_type": "markdown",
   "metadata": {},
   "source": [
    "### 2.1.3 Dealing with Outliers"
   ]
  },
  {
   "cell_type": "code",
   "execution_count": 68,
   "metadata": {},
   "outputs": [
    {
     "data": {
      "text/plain": [
       "neighbourhood_group               object\n",
       "neighbourhood                     object\n",
       "room_type                         object\n",
       "price                              int64\n",
       "minimum_nights                     int64\n",
       "number_of_reviews                  int64\n",
       "calculated_host_listings_count     int64\n",
       "availability_365                   int64\n",
       "dtype: object"
      ]
     },
     "execution_count": 68,
     "metadata": {},
     "output_type": "execute_result"
    }
   ],
   "source": [
    "listings_df_main.dtypes"
   ]
  },
  {
   "cell_type": "markdown",
   "metadata": {},
   "source": [
    "Only age,length_of_service and avg_training_score will be considered for outlier handling</br>\n",
    "no_of_trainings, previous_year_rating and all other int64 variables will be treated as categorical values"
   ]
  },
  {
   "cell_type": "code",
   "execution_count": 69,
   "metadata": {},
   "outputs": [
    {
     "data": {
      "text/html": [
       "<div>\n",
       "<style scoped>\n",
       "    .dataframe tbody tr th:only-of-type {\n",
       "        vertical-align: middle;\n",
       "    }\n",
       "\n",
       "    .dataframe tbody tr th {\n",
       "        vertical-align: top;\n",
       "    }\n",
       "\n",
       "    .dataframe thead th {\n",
       "        text-align: right;\n",
       "    }\n",
       "</style>\n",
       "<table border=\"1\" class=\"dataframe\">\n",
       "  <thead>\n",
       "    <tr style=\"text-align: right;\">\n",
       "      <th></th>\n",
       "      <th>price</th>\n",
       "    </tr>\n",
       "  </thead>\n",
       "  <tbody>\n",
       "    <tr>\n",
       "      <th>0</th>\n",
       "      <td>83</td>\n",
       "    </tr>\n",
       "    <tr>\n",
       "      <th>1</th>\n",
       "      <td>81</td>\n",
       "    </tr>\n",
       "    <tr>\n",
       "      <th>2</th>\n",
       "      <td>69</td>\n",
       "    </tr>\n",
       "    <tr>\n",
       "      <th>3</th>\n",
       "      <td>206</td>\n",
       "    </tr>\n",
       "    <tr>\n",
       "      <th>4</th>\n",
       "      <td>94</td>\n",
       "    </tr>\n",
       "    <tr>\n",
       "      <th>...</th>\n",
       "      <td>...</td>\n",
       "    </tr>\n",
       "    <tr>\n",
       "      <th>7902</th>\n",
       "      <td>100</td>\n",
       "    </tr>\n",
       "    <tr>\n",
       "      <th>7903</th>\n",
       "      <td>550</td>\n",
       "    </tr>\n",
       "    <tr>\n",
       "      <th>7904</th>\n",
       "      <td>58</td>\n",
       "    </tr>\n",
       "    <tr>\n",
       "      <th>7905</th>\n",
       "      <td>56</td>\n",
       "    </tr>\n",
       "    <tr>\n",
       "      <th>7906</th>\n",
       "      <td>65</td>\n",
       "    </tr>\n",
       "  </tbody>\n",
       "</table>\n",
       "<p>7907 rows × 1 columns</p>\n",
       "</div>"
      ],
      "text/plain": [
       "      price\n",
       "0        83\n",
       "1        81\n",
       "2        69\n",
       "3       206\n",
       "4        94\n",
       "...     ...\n",
       "7902    100\n",
       "7903    550\n",
       "7904     58\n",
       "7905     56\n",
       "7906     65\n",
       "\n",
       "[7907 rows x 1 columns]"
      ]
     },
     "execution_count": 69,
     "metadata": {},
     "output_type": "execute_result"
    }
   ],
   "source": [
    "# get continuous variables\n",
    "listings_df_outliers = listings_df_main[['price']].copy()\n",
    "listings_df_outliers"
   ]
  },
  {
   "cell_type": "code",
   "execution_count": 70,
   "metadata": {},
   "outputs": [
    {
     "name": "stderr",
     "output_type": "stream",
     "text": [
      "c:\\ProgramData\\Anaconda3\\lib\\site-packages\\seaborn\\distributions.py:2619: FutureWarning: `distplot` is a deprecated function and will be removed in a future version. Please adapt your code to use either `displot` (a figure-level function with similar flexibility) or `histplot` (an axes-level function for histograms).\n",
      "  warnings.warn(msg, FutureWarning)\n"
     ]
    },
    {
     "data": {
      "image/png": "[encoded data removed]",
      "text/plain": [
       "<Figure size 1152x288 with 3 Axes>"
      ]
     },
     "metadata": {
      "needs_background": "light"
     },
     "output_type": "display_data"
    }
   ],
   "source": [
    "for cols in listings_df_outliers:\n",
    "    diagnostic_plots(listings_df_outliers, cols)"
   ]
  },
  {
   "cell_type": "markdown",
   "metadata": {},
   "source": [
    "It can be seen that there are a large number of outliers in the **Price** variable. This will result in the model trying to train for both low price and high priced listings. There is a fundamental difference in the listings between an affordable type listing vs a luxury listing. \n",
    "\n",
    "Thus, will we will focus on only one type of listing, a non-luxury type listing as it consists of a higher portion of the dataset."
   ]
  },
  {
   "cell_type": "code",
   "execution_count": 71,
   "metadata": {},
   "outputs": [
    {
     "name": "stdout",
     "output_type": "stream",
     "text": [
      "160\n",
      "30\n",
      "Rows before removal:  7907\n",
      "Rows after removal:  4981\n"
     ]
    }
   ],
   "source": [
    "# remove extremely high and low priced listings\n",
    "upper_boundary = 160\n",
    "lower_boundary = 30\n",
    "\n",
    "print(upper_boundary)\n",
    "print(lower_boundary)\n",
    "\n",
    "print('Rows before removal: ',listings_df_main.shape[0])\n",
    "\n",
    "listings_df_main = listings_df_main[listings_df_main['price'] <= upper_boundary]\n",
    "listings_df_main = listings_df_main[listings_df_main['price'] >= lower_boundary]\n",
    "\n",
    "print('Rows after removal: ',listings_df_main.shape[0])\n"
   ]
  },
  {
   "cell_type": "code",
   "execution_count": 72,
   "metadata": {},
   "outputs": [
    {
     "name": "stderr",
     "output_type": "stream",
     "text": [
      "c:\\ProgramData\\Anaconda3\\lib\\site-packages\\seaborn\\distributions.py:2619: FutureWarning: `distplot` is a deprecated function and will be removed in a future version. Please adapt your code to use either `displot` (a figure-level function with similar flexibility) or `histplot` (an axes-level function for histograms).\n",
      "  warnings.warn(msg, FutureWarning)\n"
     ]
    },
    {
     "data": {
      "image/png": "[encoded data removed]",
      "text/plain": [
       "<Figure size 1152x288 with 3 Axes>"
      ]
     },
     "metadata": {
      "needs_background": "light"
     },
     "output_type": "display_data"
    }
   ],
   "source": [
    "for col in listings_df_outliers:\n",
    "    diagnostic_plots(listings_df_main, col)"
   ]
  },
  {
   "cell_type": "code",
   "execution_count": 73,
   "metadata": {},
   "outputs": [
    {
     "data": {
      "text/plain": [
       "neighbourhood_group               object\n",
       "neighbourhood                     object\n",
       "room_type                         object\n",
       "price                              int64\n",
       "minimum_nights                     int64\n",
       "number_of_reviews                  int64\n",
       "calculated_host_listings_count     int64\n",
       "availability_365                   int64\n",
       "dtype: object"
      ]
     },
     "execution_count": 73,
     "metadata": {},
     "output_type": "execute_result"
    }
   ],
   "source": [
    "listings_df_main.dtypes"
   ]
  },
  {
   "attachments": {},
   "cell_type": "markdown",
   "metadata": {},
   "source": [
    "### 2.1.4 Categorical Encoding"
   ]
  },
  {
   "cell_type": "code",
   "execution_count": 74,
   "metadata": {},
   "outputs": [
    {
     "data": {
      "text/plain": [
       "neighbourhood_group     5\n",
       "room_type               3\n",
       "neighbourhood          40\n",
       "dtype: int64"
      ]
     },
     "execution_count": 74,
     "metadata": {},
     "output_type": "execute_result"
    }
   ],
   "source": [
    "# get categorical variables that need encoding\n",
    "listings_df_categorical = listings_df_main[['neighbourhood_group','room_type','neighbourhood']].copy()\n",
    "listings_df_categorical.nunique()"
   ]
  },
  {
   "cell_type": "code",
   "execution_count": 75,
   "metadata": {},
   "outputs": [],
   "source": [
    "# ordinal encoding\n",
    "# creates a map or integers ordered by the grouped mean relation to the target varaible 'price'\n",
    "# this makes sure that as integer value increases, likelyhood of 'is_promoted' increases as well\n",
    "\n",
    "# create a temporary dataframe to see change from encoding\n",
    "listings_df_main_before = listings_df_main.copy()\n",
    "\n",
    "for col in listings_df_categorical:\n",
    "    # let's generate an ordered list with the labels of the columns\n",
    "    ordered_labels = listings_df_main.groupby([col])['price'].mean().sort_values().index\n",
    "\n",
    "    # next let's create a dictionary with the mappings of categories to numbers\n",
    "    ordinal_mapping = {k: i for i, k in enumerate(ordered_labels, 0)}\n",
    "\n",
    "    # replace the labels with the ordered numbers\n",
    "    listings_df_main[col] = listings_df_main[col].map(ordinal_mapping)"
   ]
  },
  {
   "cell_type": "code",
   "execution_count": 76,
   "metadata": {},
   "outputs": [
    {
     "data": {
      "image/png": "[encoded data removed]",
      "text/plain": [
       "<Figure size 864x288 with 2 Axes>"
      ]
     },
     "metadata": {
      "needs_background": "light"
     },
     "output_type": "display_data"
    },
    {
     "data": {
      "image/png": "[encoded data removed]",
      "text/plain": [
       "<Figure size 864x288 with 2 Axes>"
      ]
     },
     "metadata": {
      "needs_background": "light"
     },
     "output_type": "display_data"
    },
    {
     "data": {
      "image/png": "[encoded data removed]",
      "text/plain": [
       "<Figure size 864x288 with 2 Axes>"
      ]
     },
     "metadata": {
      "needs_background": "light"
     },
     "output_type": "display_data"
    }
   ],
   "source": [
    "# let's find visualise the distributions\n",
    "for col in listings_df_categorical:\n",
    "    diagnostic_plots_monotonic_relation(listings_df_main_before, listings_df_main, col, 'price')"
   ]
  },
  {
   "attachments": {},
   "cell_type": "markdown",
   "metadata": {},
   "source": [
    "### 2.1.5 Scaling"
   ]
  },
  {
   "cell_type": "code",
   "execution_count": 77,
   "metadata": {},
   "outputs": [],
   "source": [
    "# choose to scale target variable 'price'\n",
    "scale_target = False"
   ]
  },
  {
   "cell_type": "code",
   "execution_count": 78,
   "metadata": {},
   "outputs": [],
   "source": [
    "# set up the  MinMax Scaler\n",
    "scaler = MinMaxScaler()\n",
    "\n",
    "if scale_target:\n",
    "\n",
    "    # fit the scaler to the df_main, it will learn the parameters\n",
    "    scaler.fit(listings_df_main)\n",
    "\n",
    "    # transform df_main\n",
    "    listings_array_scaled = scaler.transform(listings_df_main)\n",
    "\n",
    "    # let's transform the returned NumPy arrays to dataframes\n",
    "    listings_df_main = pd.DataFrame(listings_array_scaled, columns=listings_df_main.columns)\n",
    "    # listings_df_main = listings_df_scaled.join(listings_df_main['price'], left_index=True, right_index=True)\n",
    "else:\n",
    "    listings_df_main = listings_df_main.reindex(columns = [col for col in listings_df_main.columns if col != 'price'] + ['price'])\n",
    "    listings_df_main\n",
    "\n",
    "    # fit the scaler to the df_main, it will learn the parameters\n",
    "    scaler.fit(listings_df_main.drop('price',axis=1))\n",
    "\n",
    "    # transform df_main\n",
    "    listings_array_scaled = scaler.transform(listings_df_main.drop('price',axis=1))\n",
    "\n",
    "    # let's transform the returned NumPy arrays to dataframes\n",
    "    listings_df_scaled = pd.DataFrame(listings_array_scaled, columns=listings_df_main.drop('price',axis=1).columns)\n",
    "    # listings_df_main = listings_df_scaled.join(listings_df_main['price'], left_index=True, right_index=True)\n",
    "\n",
    "    temp_df = listings_df_main['price'].reset_index()\n",
    "\n",
    "    listings_df_main = listings_df_scaled.assign(price=temp_df['price'])"
   ]
  },
  {
   "cell_type": "markdown",
   "metadata": {},
   "source": [
    "## 2.2 Build the Model(s)"
   ]
  },
  {
   "cell_type": "markdown",
   "metadata": {},
   "source": [
    "### 2.2.1 Train Test Split "
   ]
  },
  {
   "cell_type": "code",
   "execution_count": 79,
   "metadata": {},
   "outputs": [
    {
     "data": {
      "text/plain": [
       "((3486, 7), (1495, 7), (3486,), (1495,))"
      ]
     },
     "execution_count": 79,
     "metadata": {},
     "output_type": "execute_result"
    }
   ],
   "source": [
    "# target variable not dropped in X_train, X_test for frequency encoding\n",
    "listings_X_train, listings_X_test, listings_y_train, listings_y_test = train_test_split(listings_df_main.drop('price', axis=1),\n",
    "                                                    listings_df_main['price'], \n",
    "                                                    test_size=0.3, \n",
    "                                                    random_state=20)\n",
    "\n",
    "listings_X_train.shape, listings_X_test.shape, listings_y_train.shape, listings_y_test.shape"
   ]
  },
  {
   "cell_type": "code",
   "execution_count": 80,
   "metadata": {},
   "outputs": [
    {
     "data": {
      "text/html": [
       "<div>\n",
       "<style scoped>\n",
       "    .dataframe tbody tr th:only-of-type {\n",
       "        vertical-align: middle;\n",
       "    }\n",
       "\n",
       "    .dataframe tbody tr th {\n",
       "        vertical-align: top;\n",
       "    }\n",
       "\n",
       "    .dataframe thead th {\n",
       "        text-align: right;\n",
       "    }\n",
       "</style>\n",
       "<table border=\"1\" class=\"dataframe\">\n",
       "  <thead>\n",
       "    <tr style=\"text-align: right;\">\n",
       "      <th></th>\n",
       "      <th>neighbourhood_group</th>\n",
       "      <th>neighbourhood</th>\n",
       "      <th>room_type</th>\n",
       "      <th>minimum_nights</th>\n",
       "      <th>number_of_reviews</th>\n",
       "      <th>calculated_host_listings_count</th>\n",
       "      <th>availability_365</th>\n",
       "    </tr>\n",
       "  </thead>\n",
       "  <tbody>\n",
       "    <tr>\n",
       "      <th>4678</th>\n",
       "      <td>1.00</td>\n",
       "      <td>0.564103</td>\n",
       "      <td>0.5</td>\n",
       "      <td>0.000000</td>\n",
       "      <td>0.040248</td>\n",
       "      <td>0.047619</td>\n",
       "      <td>0.002740</td>\n",
       "    </tr>\n",
       "    <tr>\n",
       "      <th>3772</th>\n",
       "      <td>1.00</td>\n",
       "      <td>0.589744</td>\n",
       "      <td>0.5</td>\n",
       "      <td>0.028028</td>\n",
       "      <td>0.000000</td>\n",
       "      <td>0.000000</td>\n",
       "      <td>0.000000</td>\n",
       "    </tr>\n",
       "    <tr>\n",
       "      <th>1985</th>\n",
       "      <td>1.00</td>\n",
       "      <td>0.589744</td>\n",
       "      <td>0.5</td>\n",
       "      <td>0.027027</td>\n",
       "      <td>0.003096</td>\n",
       "      <td>0.300366</td>\n",
       "      <td>0.972603</td>\n",
       "    </tr>\n",
       "    <tr>\n",
       "      <th>3486</th>\n",
       "      <td>1.00</td>\n",
       "      <td>1.000000</td>\n",
       "      <td>1.0</td>\n",
       "      <td>0.029029</td>\n",
       "      <td>0.000000</td>\n",
       "      <td>1.000000</td>\n",
       "      <td>0.400000</td>\n",
       "    </tr>\n",
       "    <tr>\n",
       "      <th>4665</th>\n",
       "      <td>1.00</td>\n",
       "      <td>0.717949</td>\n",
       "      <td>0.5</td>\n",
       "      <td>0.000000</td>\n",
       "      <td>0.009288</td>\n",
       "      <td>0.000000</td>\n",
       "      <td>0.895890</td>\n",
       "    </tr>\n",
       "    <tr>\n",
       "      <th>...</th>\n",
       "      <td>...</td>\n",
       "      <td>...</td>\n",
       "      <td>...</td>\n",
       "      <td>...</td>\n",
       "      <td>...</td>\n",
       "      <td>...</td>\n",
       "      <td>...</td>\n",
       "    </tr>\n",
       "    <tr>\n",
       "      <th>1607</th>\n",
       "      <td>0.75</td>\n",
       "      <td>0.692308</td>\n",
       "      <td>1.0</td>\n",
       "      <td>0.089089</td>\n",
       "      <td>0.006192</td>\n",
       "      <td>0.003663</td>\n",
       "      <td>0.000000</td>\n",
       "    </tr>\n",
       "    <tr>\n",
       "      <th>3915</th>\n",
       "      <td>1.00</td>\n",
       "      <td>0.410256</td>\n",
       "      <td>1.0</td>\n",
       "      <td>0.002002</td>\n",
       "      <td>0.003096</td>\n",
       "      <td>0.000000</td>\n",
       "      <td>0.000000</td>\n",
       "    </tr>\n",
       "    <tr>\n",
       "      <th>1428</th>\n",
       "      <td>0.00</td>\n",
       "      <td>0.102564</td>\n",
       "      <td>0.5</td>\n",
       "      <td>0.179179</td>\n",
       "      <td>0.575851</td>\n",
       "      <td>0.003663</td>\n",
       "      <td>0.249315</td>\n",
       "    </tr>\n",
       "    <tr>\n",
       "      <th>4367</th>\n",
       "      <td>1.00</td>\n",
       "      <td>0.589744</td>\n",
       "      <td>0.5</td>\n",
       "      <td>0.001001</td>\n",
       "      <td>0.000000</td>\n",
       "      <td>0.000000</td>\n",
       "      <td>0.000000</td>\n",
       "    </tr>\n",
       "    <tr>\n",
       "      <th>2522</th>\n",
       "      <td>0.25</td>\n",
       "      <td>0.179487</td>\n",
       "      <td>0.5</td>\n",
       "      <td>0.002002</td>\n",
       "      <td>0.009288</td>\n",
       "      <td>0.007326</td>\n",
       "      <td>0.000000</td>\n",
       "    </tr>\n",
       "  </tbody>\n",
       "</table>\n",
       "<p>3486 rows × 7 columns</p>\n",
       "</div>"
      ],
      "text/plain": [
       "      neighbourhood_group  neighbourhood  room_type  minimum_nights  \\\n",
       "4678                 1.00       0.564103        0.5        0.000000   \n",
       "3772                 1.00       0.589744        0.5        0.028028   \n",
       "1985                 1.00       0.589744        0.5        0.027027   \n",
       "3486                 1.00       1.000000        1.0        0.029029   \n",
       "4665                 1.00       0.717949        0.5        0.000000   \n",
       "...                   ...            ...        ...             ...   \n",
       "1607                 0.75       0.692308        1.0        0.089089   \n",
       "3915                 1.00       0.410256        1.0        0.002002   \n",
       "1428                 0.00       0.102564        0.5        0.179179   \n",
       "4367                 1.00       0.589744        0.5        0.001001   \n",
       "2522                 0.25       0.179487        0.5        0.002002   \n",
       "\n",
       "      number_of_reviews  calculated_host_listings_count  availability_365  \n",
       "4678           0.040248                        0.047619          0.002740  \n",
       "3772           0.000000                        0.000000          0.000000  \n",
       "1985           0.003096                        0.300366          0.972603  \n",
       "3486           0.000000                        1.000000          0.400000  \n",
       "4665           0.009288                        0.000000          0.895890  \n",
       "...                 ...                             ...               ...  \n",
       "1607           0.006192                        0.003663          0.000000  \n",
       "3915           0.003096                        0.000000          0.000000  \n",
       "1428           0.575851                        0.003663          0.249315  \n",
       "4367           0.000000                        0.000000          0.000000  \n",
       "2522           0.009288                        0.007326          0.000000  \n",
       "\n",
       "[3486 rows x 7 columns]"
      ]
     },
     "execution_count": 80,
     "metadata": {},
     "output_type": "execute_result"
    }
   ],
   "source": [
    "listings_X_train"
   ]
  },
  {
   "cell_type": "code",
   "execution_count": 81,
   "metadata": {},
   "outputs": [
    {
     "data": {
      "text/plain": [
       "4678     69\n",
       "3772     33\n",
       "1985     35\n",
       "3486    151\n",
       "4665     60\n",
       "       ... \n",
       "1607     69\n",
       "3915    100\n",
       "1428     40\n",
       "4367     49\n",
       "2522     87\n",
       "Name: price, Length: 3486, dtype: int64"
      ]
     },
     "execution_count": 81,
     "metadata": {},
     "output_type": "execute_result"
    }
   ],
   "source": [
    "listings_y_train"
   ]
  },
  {
   "cell_type": "markdown",
   "metadata": {},
   "source": [
    "### 2.2.2 Linear Regression"
   ]
  },
  {
   "cell_type": "code",
   "execution_count": 82,
   "metadata": {},
   "outputs": [
    {
     "data": {
      "text/plain": [
       "LinearRegression()"
      ]
     },
     "execution_count": 82,
     "metadata": {},
     "output_type": "execute_result"
    }
   ],
   "source": [
    "# train the model using training set\n",
    "listings_lin_reg = LinearRegression()\n",
    "listings_lin_reg.fit(listings_X_train, listings_y_train)"
   ]
  },
  {
   "cell_type": "markdown",
   "metadata": {},
   "source": [
    "### 2.2.3 Random Forest Regressor"
   ]
  },
  {
   "cell_type": "code",
   "execution_count": 83,
   "metadata": {},
   "outputs": [
    {
     "data": {
      "text/plain": [
       "RandomForestRegressor(max_depth=3, max_leaf_nodes=12, n_estimators=600,\n",
       "                      n_jobs=-1)"
      ]
     },
     "execution_count": 83,
     "metadata": {},
     "output_type": "execute_result"
    }
   ],
   "source": [
    "listings_RFR = RandomForestRegressor(n_estimators=600, max_leaf_nodes=12, max_depth= 3,n_jobs=-1)\n",
    "listings_RFR.fit(listings_X_train, listings_y_train)"
   ]
  },
  {
   "cell_type": "markdown",
   "metadata": {},
   "source": [
    "### 2.2.4 XGBoostRegressor (ensemble Learning) "
   ]
  },
  {
   "cell_type": "code",
   "execution_count": 84,
   "metadata": {},
   "outputs": [
    {
     "data": {
      "text/plain": [
       "XGBRegressor(base_score=0.5, booster='gbtree', colsample_bylevel=1,\n",
       "             colsample_bynode=1, colsample_bytree=1, enable_categorical=False,\n",
       "             gamma=0, gpu_id=-1, importance_type=None,\n",
       "             interaction_constraints='', learning_rate=0.300000012,\n",
       "             max_delta_step=0, max_depth=6, min_child_weight=1, missing=nan,\n",
       "             monotone_constraints='()', n_estimators=100, n_jobs=12,\n",
       "             num_parallel_tree=1, predictor='auto', random_state=0, reg_alpha=0,\n",
       "             reg_lambda=1, scale_pos_weight=1, subsample=1, tree_method='exact',\n",
       "             validate_parameters=1, verbosity=None)"
      ]
     },
     "execution_count": 84,
     "metadata": {},
     "output_type": "execute_result"
    }
   ],
   "source": [
    "# Build XGBoost Model \n",
    "listings_XGB = XGBRegressor()\n",
    "listings_XGB.fit(listings_X_train,listings_y_train)"
   ]
  },
  {
   "cell_type": "markdown",
   "metadata": {},
   "source": [
    "## 2.3 Evaluate and Improve the Model(s)"
   ]
  },
  {
   "cell_type": "markdown",
   "metadata": {},
   "source": [
    "### 2.3.1 Linear Regression"
   ]
  },
  {
   "cell_type": "markdown",
   "metadata": {},
   "source": [
    "#### Evaluate"
   ]
  },
  {
   "cell_type": "code",
   "execution_count": 85,
   "metadata": {},
   "outputs": [
    {
     "name": "stdout",
     "output_type": "stream",
     "text": [
      "0.5020019293854785 (Train Accuracy)\n",
      "0.5435811130261816 (Test Accuracy)\n",
      "Train RMSE: \t 26.448366784122292\n",
      "Test RMSE: \t 25.67548746306906\n",
      "Train MAE: \t 20.65268666191082\n",
      "Test MAE: \t 20.54715368808351\n"
     ]
    }
   ],
   "source": [
    "# calculated the training accuracy\n",
    "print(listings_lin_reg.score(listings_X_train, listings_y_train), '(Train Accuracy)')\n",
    "# calculated the testing accuracy\n",
    "print(listings_lin_reg.score(listings_X_test, listings_y_test), '(Test Accuracy)')\n",
    "\n",
    "print('Train RMSE: \\t',sqrt(mean_squared_error(listings_lin_reg.predict(listings_X_train), listings_y_train))) \n",
    "print('Test RMSE: \\t',sqrt(mean_squared_error(listings_lin_reg.predict(listings_X_test), listings_y_test))) \n",
    "\n",
    "print('Train MAE: \\t',mean_absolute_error(listings_lin_reg.predict(listings_X_train), listings_y_train))\n",
    "print('Test MAE: \\t',mean_absolute_error(listings_lin_reg.predict(listings_X_test), listings_y_test))"
   ]
  },
  {
   "cell_type": "code",
   "execution_count": 86,
   "metadata": {},
   "outputs": [
    {
     "data": {
      "text/html": [
       "<table class=\"simpletable\">\n",
       "<caption>OLS Regression Results</caption>\n",
       "<tr>\n",
       "  <th>Dep. Variable:</th>          <td>price</td>      <th>  R-squared (uncentered):</th>      <td>   0.926</td> \n",
       "</tr>\n",
       "<tr>\n",
       "  <th>Model:</th>                   <td>OLS</td>       <th>  Adj. R-squared (uncentered):</th> <td>   0.926</td> \n",
       "</tr>\n",
       "<tr>\n",
       "  <th>Method:</th>             <td>Least Squares</td>  <th>  F-statistic:       </th>          <td>   6197.</td> \n",
       "</tr>\n",
       "<tr>\n",
       "  <th>Date:</th>             <td>Sat, 11 Feb 2023</td> <th>  Prob (F-statistic):</th>           <td>  0.00</td>  \n",
       "</tr>\n",
       "<tr>\n",
       "  <th>Time:</th>                 <td>18:38:48</td>     <th>  Log-Likelihood:    </th>          <td> -16396.</td> \n",
       "</tr>\n",
       "<tr>\n",
       "  <th>No. Observations:</th>      <td>  3486</td>      <th>  AIC:               </th>          <td>3.281e+04</td>\n",
       "</tr>\n",
       "<tr>\n",
       "  <th>Df Residuals:</th>          <td>  3479</td>      <th>  BIC:               </th>          <td>3.285e+04</td>\n",
       "</tr>\n",
       "<tr>\n",
       "  <th>Df Model:</th>              <td>     7</td>      <th>                     </th>              <td> </td>    \n",
       "</tr>\n",
       "<tr>\n",
       "  <th>Covariance Type:</th>      <td>nonrobust</td>    <th>                     </th>              <td> </td>    \n",
       "</tr>\n",
       "</table>\n",
       "<table class=\"simpletable\">\n",
       "<tr>\n",
       "                 <td></td>                   <th>coef</th>     <th>std err</th>      <th>t</th>      <th>P>|t|</th>  <th>[0.025</th>    <th>0.975]</th>  \n",
       "</tr>\n",
       "<tr>\n",
       "  <th>neighbourhood_group</th>            <td>   -1.7816</td> <td>    1.933</td> <td>   -0.922</td> <td> 0.357</td> <td>   -5.572</td> <td>    2.009</td>\n",
       "</tr>\n",
       "<tr>\n",
       "  <th>neighbourhood</th>                  <td>   44.2018</td> <td>    2.722</td> <td>   16.236</td> <td> 0.000</td> <td>   38.864</td> <td>   49.540</td>\n",
       "</tr>\n",
       "<tr>\n",
       "  <th>room_type</th>                      <td>   90.0124</td> <td>    1.590</td> <td>   56.605</td> <td> 0.000</td> <td>   86.895</td> <td>   93.130</td>\n",
       "</tr>\n",
       "<tr>\n",
       "  <th>minimum_nights</th>                 <td>  -78.2569</td> <td>   10.660</td> <td>   -7.341</td> <td> 0.000</td> <td>  -99.157</td> <td>  -57.357</td>\n",
       "</tr>\n",
       "<tr>\n",
       "  <th>number_of_reviews</th>              <td>   -5.7725</td> <td>    4.629</td> <td>   -1.247</td> <td> 0.213</td> <td>  -14.849</td> <td>    3.304</td>\n",
       "</tr>\n",
       "<tr>\n",
       "  <th>calculated_host_listings_count</th> <td>    2.2841</td> <td>    2.192</td> <td>    1.042</td> <td> 0.297</td> <td>   -2.013</td> <td>    6.581</td>\n",
       "</tr>\n",
       "<tr>\n",
       "  <th>availability_365</th>               <td>    9.4809</td> <td>    1.130</td> <td>    8.390</td> <td> 0.000</td> <td>    7.265</td> <td>   11.696</td>\n",
       "</tr>\n",
       "</table>\n",
       "<table class=\"simpletable\">\n",
       "<tr>\n",
       "  <th>Omnibus:</th>       <td>362.513</td> <th>  Durbin-Watson:     </th> <td>   1.933</td> \n",
       "</tr>\n",
       "<tr>\n",
       "  <th>Prob(Omnibus):</th> <td> 0.000</td>  <th>  Jarque-Bera (JB):  </th> <td> 521.463</td> \n",
       "</tr>\n",
       "<tr>\n",
       "  <th>Skew:</th>          <td> 0.798</td>  <th>  Prob(JB):          </th> <td>5.83e-114</td>\n",
       "</tr>\n",
       "<tr>\n",
       "  <th>Kurtosis:</th>      <td> 4.023</td>  <th>  Cond. No.          </th> <td>    33.4</td> \n",
       "</tr>\n",
       "</table><br/><br/>Notes:<br/>[1] R² is computed without centering (uncentered) since the model does not contain a constant.<br/>[2] Standard Errors assume that the covariance matrix of the errors is correctly specified."
      ],
      "text/plain": [
       "<class 'statsmodels.iolib.summary.Summary'>\n",
       "\"\"\"\n",
       "                                 OLS Regression Results                                \n",
       "=======================================================================================\n",
       "Dep. Variable:                  price   R-squared (uncentered):                   0.926\n",
       "Model:                            OLS   Adj. R-squared (uncentered):              0.926\n",
       "Method:                 Least Squares   F-statistic:                              6197.\n",
       "Date:                Sat, 11 Feb 2023   Prob (F-statistic):                        0.00\n",
       "Time:                        18:38:48   Log-Likelihood:                         -16396.\n",
       "No. Observations:                3486   AIC:                                  3.281e+04\n",
       "Df Residuals:                    3479   BIC:                                  3.285e+04\n",
       "Df Model:                           7                                                  \n",
       "Covariance Type:            nonrobust                                                  \n",
       "==================================================================================================\n",
       "                                     coef    std err          t      P>|t|      [0.025      0.975]\n",
       "--------------------------------------------------------------------------------------------------\n",
       "neighbourhood_group               -1.7816      1.933     -0.922      0.357      -5.572       2.009\n",
       "neighbourhood                     44.2018      2.722     16.236      0.000      38.864      49.540\n",
       "room_type                         90.0124      1.590     56.605      0.000      86.895      93.130\n",
       "minimum_nights                   -78.2569     10.660     -7.341      0.000     -99.157     -57.357\n",
       "number_of_reviews                 -5.7725      4.629     -1.247      0.213     -14.849       3.304\n",
       "calculated_host_listings_count     2.2841      2.192      1.042      0.297      -2.013       6.581\n",
       "availability_365                   9.4809      1.130      8.390      0.000       7.265      11.696\n",
       "==============================================================================\n",
       "Omnibus:                      362.513   Durbin-Watson:                   1.933\n",
       "Prob(Omnibus):                  0.000   Jarque-Bera (JB):              521.463\n",
       "Skew:                           0.798   Prob(JB):                    5.83e-114\n",
       "Kurtosis:                       4.023   Cond. No.                         33.4\n",
       "==============================================================================\n",
       "\n",
       "Notes:\n",
       "[1] R² is computed without centering (uncentered) since the model does not contain a constant.\n",
       "[2] Standard Errors assume that the covariance matrix of the errors is correctly specified.\n",
       "\"\"\""
      ]
     },
     "execution_count": 86,
     "metadata": {},
     "output_type": "execute_result"
    }
   ],
   "source": [
    "# Create another model hr_logReg_improv using statsmodel.api: the Logit method and fit function\n",
    "listings_lin_reg_improv = sm.OLS(listings_y_train, listings_X_train).fit()\n",
    "# Print out the Model Summary\n",
    "listings_lin_reg_improv.summary()"
   ]
  },
  {
   "cell_type": "markdown",
   "metadata": {},
   "source": [
    "##### Improvement"
   ]
  },
  {
   "cell_type": "code",
   "execution_count": 87,
   "metadata": {},
   "outputs": [
    {
     "name": "stdout",
     "output_type": "stream",
     "text": [
      "{'fit_intercept': True, 'normalize': False}\n"
     ]
    }
   ],
   "source": [
    "listings_lin_reg_improved = LinearRegression()\n",
    "param_grid = {\n",
    "    \"fit_intercept\": [True, False],\n",
    "    \"normalize\" : [True, False]\n",
    "    }\n",
    "\n",
    "listings_gs_lin_reg =GridSearchCV(listings_lin_reg_improved, \n",
    "                                  param_grid = param_grid, \n",
    "                                  cv = 5, n_jobs = -1)\n",
    "\n",
    "listings_gs_lin_reg = listings_gs_lin_reg.fit(listings_X_train, \n",
    "                                              listings_y_train)\n",
    "\n",
    "print(listings_gs_lin_reg.best_params_)"
   ]
  },
  {
   "cell_type": "markdown",
   "metadata": {},
   "source": [
    "#### Rebuilding Improved Linear Regression Model"
   ]
  },
  {
   "cell_type": "code",
   "execution_count": 88,
   "metadata": {},
   "outputs": [
    {
     "data": {
      "text/plain": [
       "LinearRegression()"
      ]
     },
     "execution_count": 88,
     "metadata": {},
     "output_type": "execute_result"
    }
   ],
   "source": [
    "# train the model using training set\n",
    "listings_lin_reg_improved = LinearRegression(**listings_gs_lin_reg.best_params_)\n",
    "listings_lin_reg_improved.fit(listings_X_train, listings_y_train)"
   ]
  },
  {
   "cell_type": "markdown",
   "metadata": {},
   "source": [
    "#### Evaluating and Comparing Improved Model"
   ]
  },
  {
   "cell_type": "code",
   "execution_count": 89,
   "metadata": {},
   "outputs": [
    {
     "name": "stdout",
     "output_type": "stream",
     "text": [
      "Train Accuracy (Improved): \t 0.5020019293854785\n",
      "Train Accuracy (Unimproved): \t 0.5020019293854785\n",
      "Train RMSE (Improved): \t\t 26.448366784122292\n",
      "Train RMSE (Unimproved): \t 26.448366784122292\n",
      "Train MAE (Improved): \t\t 20.65268666191082\n",
      "Train MAE (Unimproved): \t 20.65268666191082\n"
     ]
    }
   ],
   "source": [
    "# calculated the training accuracy\n",
    "print(\"Train Accuracy (Improved): \\t\",listings_lin_reg_improved.score(listings_X_train, listings_y_train))\n",
    "print(\"Train Accuracy (Unimproved): \\t\",listings_lin_reg.score(listings_X_train, listings_y_train))\n",
    "\n",
    "print('Train RMSE (Improved): \\t\\t',sqrt(mean_squared_error(listings_lin_reg_improved.predict(listings_X_train), listings_y_train))) \n",
    "print('Train RMSE (Unimproved): \\t',sqrt(mean_squared_error(listings_lin_reg.predict(listings_X_train), listings_y_train))) \n",
    "\n",
    "print('Train MAE (Improved): \\t\\t',mean_absolute_error(listings_lin_reg_improved.predict(listings_X_train), listings_y_train))\n",
    "print('Train MAE (Unimproved): \\t',mean_absolute_error(listings_lin_reg.predict(listings_X_train), listings_y_train))\n"
   ]
  },
  {
   "cell_type": "code",
   "execution_count": 90,
   "metadata": {},
   "outputs": [
    {
     "name": "stdout",
     "output_type": "stream",
     "text": [
      "Test Accuracy (Improved): \t 0.5435811130261816\n",
      "Test Accuracy (Unimproved): \t 0.5435811130261816\n",
      "Test RMSE (Improved): \t\t 25.67548746306906\n",
      "Test RMSE (Unimproved): \t 25.67548746306906\n",
      "Test MAE (Improved): \t\t 20.54715368808351\n",
      "Test MAE (Unimproved): \t 20.54715368808351\n"
     ]
    }
   ],
   "source": [
    "# calculated the testing accuracy\n",
    "print(\"Test Accuracy (Improved): \\t\",listings_lin_reg_improved.score(listings_X_test, listings_y_test))\n",
    "print(\"Test Accuracy (Unimproved): \\t\",listings_lin_reg.score(listings_X_test, listings_y_test))\n",
    "\n",
    "print('Test RMSE (Improved): \\t\\t',sqrt(mean_squared_error(listings_lin_reg_improved.predict(listings_X_test), listings_y_test))) \n",
    "print('Test RMSE (Unimproved): \\t',sqrt(mean_squared_error(listings_lin_reg.predict(listings_X_test), listings_y_test))) \n",
    "\n",
    "print('Test MAE (Improved): \\t\\t',mean_absolute_error(listings_lin_reg_improved.predict(listings_X_test), listings_y_test)) \n",
    "print('Test MAE (Unimproved): \\t',mean_absolute_error(listings_lin_reg.predict(listings_X_test), listings_y_test)) "
   ]
  },
  {
   "cell_type": "markdown",
   "metadata": {},
   "source": [
    "### 2.3.2 Random Forest Regressor"
   ]
  },
  {
   "cell_type": "markdown",
   "metadata": {},
   "source": [
    "#### Evaluatation"
   ]
  },
  {
   "cell_type": "code",
   "execution_count": 91,
   "metadata": {},
   "outputs": [
    {
     "name": "stdout",
     "output_type": "stream",
     "text": [
      "0.5258298831222841 (Train Accuracy)\n",
      "0.5814895304466094 (Test Accuracy)\n",
      "Train RMSE: \t 25.80786742942222\n",
      "Test RMSE: \t 24.586123414928583\n",
      "Train MAE: \t 20.14523922539737\n",
      "Test MAE: \t 19.59960799269399\n"
     ]
    }
   ],
   "source": [
    "# calculated the training accuracy\n",
    "print(listings_RFR.score(listings_X_train, listings_y_train), '(Train Accuracy)')\n",
    "# calculated the testing accuracy\n",
    "print(listings_RFR.score(listings_X_test, listings_y_test), '(Test Accuracy)')\n",
    "\n",
    "print('Train RMSE: \\t',sqrt(mean_squared_error(listings_RFR.predict(listings_X_train), listings_y_train))) \n",
    "print('Test RMSE: \\t',sqrt(mean_squared_error(listings_RFR.predict(listings_X_test), listings_y_test))) \n",
    "\n",
    "print('Train MAE: \\t',mean_absolute_error(listings_RFR.predict(listings_X_train), listings_y_train))\n",
    "print('Test MAE: \\t',mean_absolute_error(listings_RFR.predict(listings_X_test), listings_y_test))"
   ]
  },
  {
   "cell_type": "markdown",
   "metadata": {},
   "source": [
    "#### Improvement"
   ]
  },
  {
   "cell_type": "code",
   "execution_count": 92,
   "metadata": {},
   "outputs": [
    {
     "name": "stdout",
     "output_type": "stream",
     "text": [
      "{'max_depth': 4, 'min_samples_leaf': 1, 'min_samples_split': 2, 'n_estimators': 50}\n"
     ]
    }
   ],
   "source": [
    "# use gridsearch to get best params\n",
    "listings_RFR_improved = RandomForestRegressor()\n",
    "\n",
    "param_grid = {\n",
    "'max_depth': [2, 3, 4],\n",
    "'n_estimators': [50, 100, 200],\n",
    "'min_samples_split': [2, 3, 4],\n",
    "'min_samples_leaf': [1, 2, 3],\n",
    "}\n",
    "\n",
    "listings_gs_RFR = GridSearchCV(listings_RFR_improved, param_grid, cv=5, n_jobs=-1)\n",
    "\n",
    "listings_gs_RFR.fit(listings_X_train, listings_y_train)\n",
    "\n",
    "print(listings_gs_RFR.best_params_)"
   ]
  },
  {
   "cell_type": "code",
   "execution_count": 93,
   "metadata": {},
   "outputs": [
    {
     "data": {
      "text/plain": [
       "{'min_samples_leaf': 1, 'min_samples_split': 2, 'n_estimators': 50}"
      ]
     },
     "execution_count": 93,
     "metadata": {},
     "output_type": "execute_result"
    }
   ],
   "source": [
    "keys = list(listings_gs_RFR.best_params_.keys())[1:]\n",
    "values = list(listings_gs_RFR.best_params_.values())[1:]\n",
    "best_params_no_max_depth = dict(zip(keys,values))\n",
    "best_params_no_max_depth"
   ]
  },
  {
   "cell_type": "code",
   "execution_count": 94,
   "metadata": {},
   "outputs": [],
   "source": [
    "# Setting max_depth from 2 to 9 (8 different values)\n",
    "# Training & evaluating the model 8 times with different max_depth value\n",
    "# Store both simple split measures (train_mse & test_mse) and \n",
    "# cross validation measures (cross_val_train_mse & cross val_test_mse) into arrays\n",
    "\n",
    "depth_range = range(2,10)\n",
    "\n",
    "train_mse = []\n",
    "test_mse = []\n",
    "cross_val_train_mse =[]\n",
    "cross_val_test_mse =[]\n",
    "\n",
    "for d in depth_range:\n",
    "    # Create Random Forest Model\n",
    "    rf_reg = RandomForestRegressor(max_depth=d,**best_params_no_max_depth)\n",
    "    rf_reg.fit(listings_X_train, listings_y_train) \n",
    "    train_mse.append(mean_squared_error(rf_reg.predict(listings_X_train), listings_y_train))\n",
    "    test_mse.append(mean_squared_error(rf_reg.predict(listings_X_test), listings_y_test))\n",
    "\n",
    "    results  = cross_validate(rf_reg,listings_df_main.drop('price', axis = 1),listings_df_main['price'], scoring='neg_mean_squared_error', cv=5, return_train_score = True)\n",
    "    cross_val_train_mse.append(sum(-results['train_score'])/len(results['train_score']))\n",
    "    cross_val_test_mse.append(sum(-results['test_score'])/len(results['test_score']))"
   ]
  },
  {
   "cell_type": "code",
   "execution_count": 95,
   "metadata": {},
   "outputs": [
    {
     "data": {
      "image/png": "[encoded data removed]",
      "text/plain": [
       "<Figure size 432x288 with 1 Axes>"
      ]
     },
     "metadata": {
      "needs_background": "light"
     },
     "output_type": "display_data"
    }
   ],
   "source": [
    "# Plot the simple split measures (train_mse & test_mse) \n",
    "plt.plot(depth_range, train_mse, 'bo-', label ='training mse')\n",
    "plt.plot(depth_range, test_mse, 'ro-', label = 'testing mse')\n",
    "\n",
    "plt.xlabel('max_depth', fontsize='x-large')\n",
    "plt.ylabel('mean squared error (MSE)', fontsize='x-large')\n",
    "\n",
    "plt.legend(loc='best', shadow=True, fontsize='x-large')\n",
    "plt.show()"
   ]
  },
  {
   "cell_type": "code",
   "execution_count": 96,
   "metadata": {},
   "outputs": [
    {
     "data": {
      "image/png": "[encoded data removed]",
      "text/plain": [
       "<Figure size 432x288 with 1 Axes>"
      ]
     },
     "metadata": {
      "needs_background": "light"
     },
     "output_type": "display_data"
    }
   ],
   "source": [
    "# Plot the cross validation measures (cross_val_train_mse & cross val_test_mse) \n",
    "plt.plot(depth_range, cross_val_train_mse, 'bo-', label ='cross val training mse')\n",
    "plt.plot(depth_range, cross_val_test_mse, 'ro-', label = 'cross val testing mse')\n",
    "\n",
    "plt.xlabel('max_depth', fontsize='x-large')\n",
    "plt.ylabel('mean squared error (MSE)', fontsize='x-large')\n",
    "\n",
    "plt.legend(loc='best', shadow=True, fontsize='x-large')\n",
    "plt.show()"
   ]
  },
  {
   "cell_type": "code",
   "execution_count": 97,
   "metadata": {},
   "outputs": [
    {
     "data": {
      "text/plain": [
       "RandomForestRegressor(max_depth=7, n_estimators=50)"
      ]
     },
     "execution_count": 97,
     "metadata": {},
     "output_type": "execute_result"
    }
   ],
   "source": [
    "listings_RFR_improved = RandomForestRegressor(max_depth=7, **best_params_no_max_depth)\n",
    "listings_RFR_improved.fit(listings_X_train, listings_y_train)"
   ]
  },
  {
   "cell_type": "code",
   "execution_count": 98,
   "metadata": {},
   "outputs": [
    {
     "name": "stdout",
     "output_type": "stream",
     "text": [
      "Train Accuracy (Improved): \t 0.6869594037625576\n",
      "Train Accuracy (Unimproved): \t 0.5258298831222841\n",
      "Train RMSE (Improved): \t\t 20.969368898510755\n",
      "Train RMSE (Unimproved): \t 25.80786742942222\n",
      "Train MAE (Improved): \t\t 15.67358239134621\n",
      "Train MAE (Unimproved): \t 20.14523922539737\n"
     ]
    }
   ],
   "source": [
    "# calculated the training accuracy\n",
    "print(\"Train Accuracy (Improved): \\t\",listings_RFR_improved.score(listings_X_train, listings_y_train))\n",
    "print(\"Train Accuracy (Unimproved): \\t\",listings_RFR.score(listings_X_train, listings_y_train))\n",
    "\n",
    "print('Train RMSE (Improved): \\t\\t',sqrt(mean_squared_error(listings_RFR_improved.predict(listings_X_train), listings_y_train))) \n",
    "print('Train RMSE (Unimproved): \\t',sqrt(mean_squared_error(listings_RFR.predict(listings_X_train), listings_y_train))) \n",
    "\n",
    "print('Train MAE (Improved): \\t\\t',mean_absolute_error(listings_RFR_improved.predict(listings_X_train), listings_y_train)) \n",
    "print('Train MAE (Unimproved): \\t',mean_absolute_error(listings_RFR.predict(listings_X_train), listings_y_train)) "
   ]
  },
  {
   "cell_type": "code",
   "execution_count": 99,
   "metadata": {},
   "outputs": [
    {
     "name": "stdout",
     "output_type": "stream",
     "text": [
      "Test Accuracy (Improved): \t 0.6641790937670852\n",
      "Test Accuracy (Unimproved): \t 0.5814895304466094\n",
      "Test RMSE (Improved): \t\t 22.023724134131207\n",
      "Test RMSE (Unimproved): \t 24.58612341492858\n",
      "Test MAE (Improved): \t\t 16.89124089431011\n",
      "Test MAE (Unimproved): \t\t 19.59960799269399\n"
     ]
    }
   ],
   "source": [
    "# calculated the testing accuracy\n",
    "print(\"Test Accuracy (Improved): \\t\",listings_RFR_improved.score(listings_X_test, listings_y_test))\n",
    "print(\"Test Accuracy (Unimproved): \\t\",listings_RFR.score(listings_X_test, listings_y_test))\n",
    "\n",
    "print('Test RMSE (Improved): \\t\\t',sqrt(mean_squared_error(listings_RFR_improved.predict(listings_X_test), listings_y_test))) \n",
    "print('Test RMSE (Unimproved): \\t',sqrt(mean_squared_error(listings_RFR.predict(listings_X_test), listings_y_test))) \n",
    "\n",
    "print('Test MAE (Improved): \\t\\t',mean_absolute_error(listings_RFR_improved.predict(listings_X_test), listings_y_test)) \n",
    "print('Test MAE (Unimproved): \\t\\t',mean_absolute_error(listings_RFR.predict(listings_X_test), listings_y_test)) "
   ]
  },
  {
   "cell_type": "markdown",
   "metadata": {},
   "source": [
    "### 2.3.3 XGBoostClassifier"
   ]
  },
  {
   "cell_type": "markdown",
   "metadata": {},
   "source": [
    "#### Evaluation"
   ]
  },
  {
   "cell_type": "code",
   "execution_count": 100,
   "metadata": {},
   "outputs": [
    {
     "name": "stdout",
     "output_type": "stream",
     "text": [
      "0.9012358961956787 (Train Accuracy)\n",
      "0.6407556517288997 (Test Accuracy)\n",
      "Train RMSE: \t 11.778353718293394\n",
      "Test RMSE: \t 22.77885374171586\n",
      "Train MAE: \t 7.962381114511057\n",
      "Test MAE: \t 16.897717084852747\n"
     ]
    }
   ],
   "source": [
    "# calculated the training accuracy\n",
    "print(listings_XGB.score(listings_X_train, listings_y_train), '(Train Accuracy)')\n",
    "# calculated the testing accuracy\n",
    "print(listings_XGB.score(listings_X_test, listings_y_test), '(Test Accuracy)')\n",
    "\n",
    "print('Train RMSE: \\t',sqrt(mean_squared_error(listings_XGB.predict(listings_X_train), listings_y_train))) \n",
    "print('Test RMSE: \\t',sqrt(mean_squared_error(listings_XGB.predict(listings_X_test), listings_y_test))) \n",
    "\n",
    "print('Train MAE: \\t',mean_absolute_error(listings_XGB.predict(listings_X_train), listings_y_train))\n",
    "print('Test MAE: \\t',mean_absolute_error(listings_XGB.predict(listings_X_test), listings_y_test))"
   ]
  },
  {
   "cell_type": "markdown",
   "metadata": {},
   "source": [
    "#### Improvement"
   ]
  },
  {
   "cell_type": "code",
   "execution_count": 101,
   "metadata": {},
   "outputs": [
    {
     "name": "stdout",
     "output_type": "stream",
     "text": [
      "{'learning_rate': 0.2, 'max_depth': 3, 'n_estimators': 200}\n"
     ]
    }
   ],
   "source": [
    "# use gridsearch to get best params\n",
    "listings_XGB_improved = XGBRegressor()\n",
    "\n",
    "param_grid = {\n",
    "'max_depth': [2, 3, 4],\n",
    "'learning_rate': [0.1, 0.2, 0.3],\n",
    "'n_estimators': [50, 100, 200],\n",
    "}\n",
    "\n",
    "listings_gs_XGB = GridSearchCV(listings_XGB_improved, param_grid, cv=5, n_jobs=-1)\n",
    "\n",
    "listings_gs_XGB.fit(listings_X_train, listings_y_train)\n",
    "\n",
    "print(listings_gs_XGB.best_params_)"
   ]
  },
  {
   "cell_type": "code",
   "execution_count": 102,
   "metadata": {},
   "outputs": [
    {
     "data": {
      "text/plain": [
       "{'learning_rate': 0.2, 'n_estimators': 200}"
      ]
     },
     "execution_count": 102,
     "metadata": {},
     "output_type": "execute_result"
    }
   ],
   "source": [
    "keys = [list(listings_gs_XGB.best_params_.keys())[0],list(listings_gs_XGB.best_params_.keys())[-1]]\n",
    "values = [list(listings_gs_XGB.best_params_.values())[0],list(listings_gs_XGB.best_params_.values())[-1]]\n",
    "best_params_no_max_depth = dict(zip(keys,values))\n",
    "best_params_no_max_depth"
   ]
  },
  {
   "cell_type": "code",
   "execution_count": 103,
   "metadata": {},
   "outputs": [],
   "source": [
    "# Setting max_depth from 2 to 9 (8 different values)\n",
    "# Training & evaluating the model 8 times with different max_depth value\n",
    "# Store both simple split measures (train_mse & test_mse) and \n",
    "# cross validation measures (cross_val_train_mse & cross val_test_mse) into arrays\n",
    "\n",
    "depth_range = range(2,10)\n",
    "\n",
    "train_mse = []\n",
    "test_mse = []\n",
    "cross_val_train_mse =[]\n",
    "cross_val_test_mse =[]\n",
    "\n",
    "for d in depth_range:\n",
    "    # Create XGBRegressor\n",
    "    xgb_reg = XGBRegressor(max_depth=d,**best_params_no_max_depth)\n",
    "    xgb_reg.fit(listings_X_train, listings_y_train) \n",
    "    train_mse.append(mean_squared_error(xgb_reg.predict(listings_X_train), listings_y_train))\n",
    "    test_mse.append(mean_squared_error(xgb_reg.predict(listings_X_test), listings_y_test))\n",
    "\n",
    "    results  = cross_validate(xgb_reg,listings_df_main.drop('price', axis = 1),listings_df_main['price'], scoring='neg_mean_squared_error', cv=5, return_train_score = True)\n",
    "    cross_val_train_mse.append(sum(-results['train_score'])/len(results['train_score']))\n",
    "    cross_val_test_mse.append(sum(-results['test_score'])/len(results['test_score']))"
   ]
  },
  {
   "cell_type": "code",
   "execution_count": 104,
   "metadata": {},
   "outputs": [
    {
     "data": {
      "image/png": "[encoded data removed]",
      "text/plain": [
       "<Figure size 432x288 with 1 Axes>"
      ]
     },
     "metadata": {
      "needs_background": "light"
     },
     "output_type": "display_data"
    }
   ],
   "source": [
    "# Plot the simple split measures (train_mse & test_mse) \n",
    "plt.plot(depth_range, train_mse, 'bo-', label ='training mse')\n",
    "plt.plot(depth_range, test_mse, 'ro-', label = 'testing mse')\n",
    "\n",
    "plt.xlabel('max_depth', fontsize='x-large')\n",
    "plt.ylabel('mean squared error (MSE)', fontsize='x-large')\n",
    "\n",
    "plt.legend(loc='best', shadow=True, fontsize='x-large')\n",
    "plt.show()"
   ]
  },
  {
   "cell_type": "code",
   "execution_count": 105,
   "metadata": {},
   "outputs": [
    {
     "data": {
      "image/png": "[encoded data removed]",
      "text/plain": [
       "<Figure size 432x288 with 1 Axes>"
      ]
     },
     "metadata": {
      "needs_background": "light"
     },
     "output_type": "display_data"
    }
   ],
   "source": [
    "# Plot the cross validation measures (cross_val_train_mse & cross val_test_mse) \n",
    "plt.plot(depth_range, cross_val_train_mse, 'bo-', label ='cross val training mse')\n",
    "plt.plot(depth_range, cross_val_test_mse, 'ro-', label = 'cross val testing mse')\n",
    "\n",
    "plt.xlabel('max_depth', fontsize='x-large')\n",
    "plt.ylabel('mean squared error (MSE)', fontsize='x-large')\n",
    "\n",
    "plt.legend(loc='best', shadow=True, fontsize='x-large')\n",
    "plt.show()"
   ]
  },
  {
   "cell_type": "code",
   "execution_count": 106,
   "metadata": {},
   "outputs": [
    {
     "data": {
      "text/plain": [
       "XGBRegressor(base_score=0.5, booster='gbtree', colsample_bylevel=1,\n",
       "             colsample_bynode=1, colsample_bytree=1, enable_categorical=False,\n",
       "             gamma=0, gpu_id=-1, importance_type=None,\n",
       "             interaction_constraints='', learning_rate=0.2, max_delta_step=0,\n",
       "             max_depth=3, min_child_weight=1, missing=nan,\n",
       "             monotone_constraints='()', n_estimators=200, n_jobs=12,\n",
       "             num_parallel_tree=1, predictor='auto', random_state=0, reg_alpha=0,\n",
       "             reg_lambda=1, scale_pos_weight=1, subsample=1, tree_method='exact',\n",
       "             validate_parameters=1, verbosity=None)"
      ]
     },
     "execution_count": 106,
     "metadata": {},
     "output_type": "execute_result"
    }
   ],
   "source": [
    "# Build XGBoost Model \n",
    "listings_XGB_improved = XGBRegressor(**listings_gs_XGB.best_params_)\n",
    "listings_XGB_improved.fit(listings_X_train,listings_y_train)"
   ]
  },
  {
   "cell_type": "code",
   "execution_count": 107,
   "metadata": {},
   "outputs": [
    {
     "name": "stdout",
     "output_type": "stream",
     "text": [
      "Train Accuracy (Improved): \t 0.7296369871119173\n",
      "Train Accuracy (Unimproved): \t 0.9012358961956787\n",
      "Train RMSE (Improved): \t\t 19.48761395203428\n",
      "Train RMSE (Unimproved): \t 11.778353718293394\n",
      "Train MAE (Improved): \t\t 14.494518519678953\n",
      "Train MAE (Unimproved): \t 7.962381114511057\n"
     ]
    }
   ],
   "source": [
    "# calculated the training accuracy\n",
    "print(\"Train Accuracy (Improved): \\t\",listings_XGB_improved.score(listings_X_train, listings_y_train))\n",
    "print(\"Train Accuracy (Unimproved): \\t\",listings_XGB.score(listings_X_train, listings_y_train))\n",
    "\n",
    "print('Train RMSE (Improved): \\t\\t',sqrt(mean_squared_error(listings_XGB_improved.predict(listings_X_train), listings_y_train))) \n",
    "print('Train RMSE (Unimproved): \\t',sqrt(mean_squared_error(listings_XGB.predict(listings_X_train), listings_y_train)))\n",
    "\n",
    "print('Train MAE (Improved): \\t\\t',mean_absolute_error(listings_XGB_improved.predict(listings_X_train), listings_y_train)) \n",
    "print('Train MAE (Unimproved): \\t',mean_absolute_error(listings_XGB.predict(listings_X_train), listings_y_train)) "
   ]
  },
  {
   "cell_type": "code",
   "execution_count": 108,
   "metadata": {},
   "outputs": [
    {
     "name": "stdout",
     "output_type": "stream",
     "text": [
      "Test Accuracy (Improved): \t 0.64075160741775\n",
      "Test Accuracy (Unimproved): \t 0.6407556517288997\n",
      "Test RMSE (Improved): \t\t 22.778981961565847\n",
      "Test RMSE (Unimproved): \t 22.77885374171586\n",
      "Test MAE (Improved): \t\t 17.32935583184794\n",
      "Test MAE (Unimproved): \t 16.897717084852747\n"
     ]
    }
   ],
   "source": [
    "# calculated the testing accuracy\n",
    "print(\"Test Accuracy (Improved): \\t\",listings_XGB_improved.score(listings_X_test, listings_y_test))\n",
    "print(\"Test Accuracy (Unimproved): \\t\",listings_XGB.score(listings_X_test, listings_y_test))\n",
    "\n",
    "print('Test RMSE (Improved): \\t\\t',sqrt(mean_squared_error(listings_XGB_improved.predict(listings_X_test), listings_y_test))) \n",
    "print('Test RMSE (Unimproved): \\t',sqrt(mean_squared_error(listings_XGB.predict(listings_X_test), listings_y_test))) \n",
    "\n",
    "print('Test MAE (Improved): \\t\\t',mean_absolute_error(listings_XGB_improved.predict(listings_X_test), listings_y_test)) \n",
    "print('Test MAE (Unimproved): \\t',mean_absolute_error(listings_XGB.predict(listings_X_test), listings_y_test)) "
   ]
  },
  {
   "cell_type": "markdown",
   "metadata": {},
   "source": [
    "### 2.3.4 VotingRegressor "
   ]
  },
  {
   "cell_type": "markdown",
   "metadata": {},
   "source": [
    "#### Define Classifiers"
   ]
  },
  {
   "cell_type": "code",
   "execution_count": 109,
   "metadata": {},
   "outputs": [],
   "source": [
    "# create list of Regressor \n",
    "classifier = [listings_lin_reg_improved,listings_RFR_improved,listings_XGB_improved]"
   ]
  },
  {
   "cell_type": "markdown",
   "metadata": {},
   "source": [
    "#### Build and Fit VotingClassifier"
   ]
  },
  {
   "cell_type": "code",
   "execution_count": 110,
   "metadata": {},
   "outputs": [
    {
     "data": {
      "text/plain": [
       "VotingRegressor(estimators=[('listings_lin_reg_improved', LinearRegression()),\n",
       "                            ('listings_XGB_improved',\n",
       "                             XGBRegressor(base_score=0.5, booster='gbtree',\n",
       "                                          colsample_bylevel=1,\n",
       "                                          colsample_bynode=1,\n",
       "                                          colsample_bytree=1,\n",
       "                                          enable_categorical=False, gamma=0,\n",
       "                                          gpu_id=-1, importance_type=None,\n",
       "                                          interaction_constraints='',\n",
       "                                          learning_rate=0.2, max_delta_step=0,\n",
       "                                          max_depth=3, min_child_weight=1,\n",
       "                                          missing=nan,\n",
       "                                          monotone_constraints='()',\n",
       "                                          n_estimators=200, n_jobs=12,\n",
       "                                          num_parallel_tree=1, predictor='auto',\n",
       "                                          random_state=0, reg_alpha=0,\n",
       "                                          reg_lambda=1, scale_pos_weight=1,\n",
       "                                          subsample=1, tree_method='exact',\n",
       "                                          validate_parameters=1,\n",
       "                                          verbosity=None)),\n",
       "                            ('listings_RFR_improved',\n",
       "                             RandomForestRegressor(max_depth=7,\n",
       "                                                   n_estimators=50))],\n",
       "                weights=[0.3, 0.5, 0.7])"
      ]
     },
     "execution_count": 110,
     "metadata": {},
     "output_type": "execute_result"
    }
   ],
   "source": [
    "# VotingRegressor  with hard voting technique\n",
    "voting_clf = VotingRegressor(estimators=[('listings_lin_reg_improved', listings_lin_reg_improved), \n",
    "                                               ('listings_XGB_improved', listings_XGB_improved),\n",
    "                                               ('listings_RFR_improved', listings_RFR_improved)],\n",
    "                                   weights = [0.30,0.50,0.70])\n",
    "\n",
    "# Let's train our voting Regressor. It's an estimator object so we call fit on our training data. It is used to train the Regressor\n",
    "# before it can be used to make predictions. This will train all of the individual Regressors in the ensemble\n",
    "\n",
    "voting_clf.fit(listings_X_train, listings_y_train)"
   ]
  },
  {
   "cell_type": "code",
   "execution_count": 111,
   "metadata": {},
   "outputs": [
    {
     "name": "stdout",
     "output_type": "stream",
     "text": [
      "LinearRegression\n",
      "Train Accuracy: \t 0.5020019293854785\n",
      "Test Accuracy: \t\t 0.5435811130261816\n",
      "Train RMSE: \t\t 26.448366784122292\n",
      "Test RMSE: \t\t 25.67548746306906\n",
      "Train MAE: \t\t 20.65268666191082\n",
      "Test MAE: \t\t 20.54715368808351\n",
      "Train MSE: \t\t 699.5161055474634\n",
      "Test MSE: \t\t 659.2306564662166 \n",
      "\n",
      "RandomForestRegressor\n",
      "Train Accuracy: \t 0.686719095913559\n",
      "Test Accuracy: \t\t 0.6684227859239159\n",
      "Train RMSE: \t\t 20.97741599733819\n",
      "Test RMSE: \t\t 21.884127330770212\n",
      "Train MAE: \t\t 15.720719279015073\n",
      "Test MAE: \t\t 16.842087242234445\n",
      "Train MSE: \t\t 440.05198192538023\n",
      "Test MSE: \t\t 478.9150290293638 \n",
      "\n",
      "XGBRegressor\n",
      "Train Accuracy: \t 0.7296369871119173\n",
      "Test Accuracy: \t\t 0.64075160741775\n",
      "Train RMSE: \t\t 19.48761395203428\n",
      "Test RMSE: \t\t 22.778981961565847\n",
      "Train MAE: \t\t 14.494518519678953\n",
      "Test MAE: \t\t 17.32935583184794\n",
      "Train MSE: \t\t 379.7670975435211\n",
      "Test MSE: \t\t 518.8820192053422 \n",
      "\n",
      "VotingRegressor\n",
      "Train Accuracy: \t 0.6907775392991514\n",
      "Test Accuracy: \t\t 0.659541852046093\n",
      "Train RMSE: \t\t 20.84109555740043\n",
      "Test RMSE: \t\t 22.175262016777392\n",
      "Train MAE: \t\t 15.721385622993889\n",
      "Test MAE: \t\t 17.2564235064362\n",
      "Train MSE: \t\t 434.3512640326959\n",
      "Test MSE: \t\t 491.7422455127301 \n",
      "\n"
     ]
    }
   ],
   "source": [
    "for clf in (listings_lin_reg_improved,listings_RFR_improved,listings_XGB_improved, voting_clf):\n",
    "    \n",
    "    clf.fit(listings_X_train, listings_y_train)\n",
    "\n",
    "    print(clf.__class__.__name__)\n",
    "    print(\"Train Accuracy: \\t\",clf.score(listings_X_train, listings_y_train))\n",
    "    print(\"Test Accuracy: \\t\\t\",clf.score(listings_X_test, listings_y_test))\n",
    "    \n",
    "    print('Train RMSE: \\t\\t',sqrt(mean_squared_error(clf.predict(listings_X_train), listings_y_train))) \n",
    "    print('Test RMSE: \\t\\t',sqrt(mean_squared_error(clf.predict(listings_X_test), listings_y_test)),) \n",
    "    \n",
    "    print('Train MAE: \\t\\t',mean_absolute_error(clf.predict(listings_X_train), listings_y_train))\n",
    "    print('Test MAE: \\t\\t',mean_absolute_error(clf.predict(listings_X_test), listings_y_test))\n",
    "    \n",
    "    print('Train MSE: \\t\\t',(mean_squared_error(clf.predict(listings_X_train), listings_y_train))) \n",
    "    print('Test MSE: \\t\\t',(mean_squared_error(clf.predict(listings_X_test), listings_y_test)),'\\n') "
   ]
  }
 ],
 "metadata": {
  "kernelspec": {
   "display_name": "Python 3 (ipykernel)",
   "language": "python",
   "name": "python3"
  },
  "language_info": {
   "codemirror_mode": {
    "name": "ipython",
    "version": 3
   },
   "file_extension": ".py",
   "mimetype": "text/x-python",
   "name": "python",
   "nbconvert_exporter": "python",
   "pygments_lexer": "ipython3",
   "version": "3.9.7"
  },
  "vscode": {
   "interpreter": {
    "hash": "ad2bdc8ecc057115af97d19610ffacc2b4e99fae6737bb82f5d7fb13d2f2c186"
   }
  }
 },
 "nbformat": 4,
 "nbformat_minor": 2
}
